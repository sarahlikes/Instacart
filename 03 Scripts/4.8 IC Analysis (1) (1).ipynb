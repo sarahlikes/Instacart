{
 "cells": [
  {
   "cell_type": "code",
   "execution_count": 1,
   "id": "d29391fc",
   "metadata": {},
   "outputs": [],
   "source": [
    "#Import Libraries\n",
    "import pandas as pd\n",
    "import numpy as np\n",
    "import os"
   ]
  },
  {
   "cell_type": "code",
   "execution_count": 2,
   "id": "29a58322",
   "metadata": {},
   "outputs": [],
   "source": [
    "#Import dataframe\n",
    "path=r'C:\\Users\\Alex\\Instacart Basket Analysis'"
   ]
  },
  {
   "cell_type": "code",
   "execution_count": 3,
   "id": "38642d3f",
   "metadata": {},
   "outputs": [],
   "source": [
    "df_ords_prods_merge=pd.read_pickle(os.path.join(path, '02 Data', 'Prepared Data', 'orders_products_merged_updated.pkl'))"
   ]
  },
  {
   "cell_type": "code",
   "execution_count": 4,
   "id": "6ffccbe7",
   "metadata": {},
   "outputs": [],
   "source": [
    "df_ords_prods_merge['max_order'] = df_ords_prods_merge.groupby(['user_id'])['order_number'].transform(np.max)"
   ]
  },
  {
   "cell_type": "code",
   "execution_count": 5,
   "id": "e42dd3f7",
   "metadata": {},
   "outputs": [
    {
     "data": {
      "text/html": [
       "<div>\n",
       "<style scoped>\n",
       "    .dataframe tbody tr th:only-of-type {\n",
       "        vertical-align: middle;\n",
       "    }\n",
       "\n",
       "    .dataframe tbody tr th {\n",
       "        vertical-align: top;\n",
       "    }\n",
       "\n",
       "    .dataframe thead tr th {\n",
       "        text-align: left;\n",
       "    }\n",
       "\n",
       "    .dataframe thead tr:last-of-type th {\n",
       "        text-align: right;\n",
       "    }\n",
       "</style>\n",
       "<table border=\"1\" class=\"dataframe\">\n",
       "  <thead>\n",
       "    <tr>\n",
       "      <th></th>\n",
       "      <th>order_number</th>\n",
       "    </tr>\n",
       "    <tr>\n",
       "      <th></th>\n",
       "      <th>mean</th>\n",
       "    </tr>\n",
       "    <tr>\n",
       "      <th>department_id</th>\n",
       "      <th></th>\n",
       "    </tr>\n",
       "  </thead>\n",
       "  <tbody>\n",
       "    <tr>\n",
       "      <th>4</th>\n",
       "      <td>18.825780</td>\n",
       "    </tr>\n",
       "    <tr>\n",
       "      <th>7</th>\n",
       "      <td>17.472355</td>\n",
       "    </tr>\n",
       "    <tr>\n",
       "      <th>13</th>\n",
       "      <td>17.993423</td>\n",
       "    </tr>\n",
       "    <tr>\n",
       "      <th>14</th>\n",
       "      <td>19.246334</td>\n",
       "    </tr>\n",
       "    <tr>\n",
       "      <th>16</th>\n",
       "      <td>19.463012</td>\n",
       "    </tr>\n",
       "    <tr>\n",
       "      <th>17</th>\n",
       "      <td>11.294069</td>\n",
       "    </tr>\n",
       "    <tr>\n",
       "      <th>19</th>\n",
       "      <td>19.305237</td>\n",
       "    </tr>\n",
       "    <tr>\n",
       "      <th>20</th>\n",
       "      <td>17.599636</td>\n",
       "    </tr>\n",
       "  </tbody>\n",
       "</table>\n",
       "</div>"
      ],
      "text/plain": [
       "              order_number\n",
       "                      mean\n",
       "department_id             \n",
       "4                18.825780\n",
       "7                17.472355\n",
       "13               17.993423\n",
       "14               19.246334\n",
       "16               19.463012\n",
       "17               11.294069\n",
       "19               19.305237\n",
       "20               17.599636"
      ]
     },
     "execution_count": 5,
     "metadata": {},
     "output_type": "execute_result"
    }
   ],
   "source": [
    "#Aggregate the mean of the \"order_number\" column grouped by \"department_id\" for entire dataframe\n",
    "df_ords_prods_merge.groupby('department_id').agg({'order_number': ['mean']})"
   ]
  },
  {
   "cell_type": "markdown",
   "id": "47cc705b",
   "metadata": {},
   "source": [
    "this way we are able to see the number of orders in every single department."
   ]
  },
  {
   "cell_type": "code",
   "execution_count": 6,
   "id": "f3006c50",
   "metadata": {},
   "outputs": [],
   "source": [
    "#Create loyalty flag for existing customers using the transform() and loc() functions"
   ]
  },
  {
   "cell_type": "code",
   "execution_count": 7,
   "id": "60ca6491",
   "metadata": {},
   "outputs": [],
   "source": [
    "df_ords_prods_merge.loc[df_ords_prods_merge['max_order']>40, 'loyalty_flag']='Loyal customer'"
   ]
  },
  {
   "cell_type": "code",
   "execution_count": 8,
   "id": "0dfce0bd",
   "metadata": {},
   "outputs": [],
   "source": [
    "df_ords_prods_merge.loc[(df_ords_prods_merge['max_order']<=40)&(df_ords_prods_merge['max_order']>10), 'loyalty_flag']='Regular customer'"
   ]
  },
  {
   "cell_type": "code",
   "execution_count": 9,
   "id": "29ca8218",
   "metadata": {},
   "outputs": [],
   "source": [
    "df_ords_prods_merge.loc[df_ords_prods_merge['max_order']<=10, 'loyalty_flag']='New customer'"
   ]
  },
  {
   "cell_type": "code",
   "execution_count": 10,
   "id": "a9316feb",
   "metadata": {},
   "outputs": [
    {
     "data": {
      "text/plain": [
       "Regular customer    483226\n",
       "Loyal customer      417483\n",
       "New customer         99291\n",
       "Name: loyalty_flag, dtype: int64"
      ]
     },
     "execution_count": 10,
     "metadata": {},
     "output_type": "execute_result"
    }
   ],
   "source": [
    "df_ords_prods_merge['loyalty_flag'].value_counts(dropna=False)"
   ]
  },
  {
   "cell_type": "code",
   "execution_count": 11,
   "id": "0a3f37dc",
   "metadata": {},
   "outputs": [
    {
     "data": {
      "text/html": [
       "<div>\n",
       "<style scoped>\n",
       "    .dataframe tbody tr th:only-of-type {\n",
       "        vertical-align: middle;\n",
       "    }\n",
       "\n",
       "    .dataframe tbody tr th {\n",
       "        vertical-align: top;\n",
       "    }\n",
       "\n",
       "    .dataframe thead tr th {\n",
       "        text-align: left;\n",
       "    }\n",
       "\n",
       "    .dataframe thead tr:last-of-type th {\n",
       "        text-align: right;\n",
       "    }\n",
       "</style>\n",
       "<table border=\"1\" class=\"dataframe\">\n",
       "  <thead>\n",
       "    <tr>\n",
       "      <th></th>\n",
       "      <th colspan=\"3\" halign=\"left\">prices</th>\n",
       "    </tr>\n",
       "    <tr>\n",
       "      <th></th>\n",
       "      <th>mean</th>\n",
       "      <th>min</th>\n",
       "      <th>max</th>\n",
       "    </tr>\n",
       "    <tr>\n",
       "      <th>loyalty_flag</th>\n",
       "      <th></th>\n",
       "      <th></th>\n",
       "      <th></th>\n",
       "    </tr>\n",
       "  </thead>\n",
       "  <tbody>\n",
       "    <tr>\n",
       "      <th>Loyal customer</th>\n",
       "      <td>7.866715</td>\n",
       "      <td>1.0</td>\n",
       "      <td>14.8</td>\n",
       "    </tr>\n",
       "    <tr>\n",
       "      <th>New customer</th>\n",
       "      <td>7.726155</td>\n",
       "      <td>1.0</td>\n",
       "      <td>14.8</td>\n",
       "    </tr>\n",
       "    <tr>\n",
       "      <th>Regular customer</th>\n",
       "      <td>7.797883</td>\n",
       "      <td>1.0</td>\n",
       "      <td>14.8</td>\n",
       "    </tr>\n",
       "  </tbody>\n",
       "</table>\n",
       "</div>"
      ],
      "text/plain": [
       "                    prices           \n",
       "                      mean  min   max\n",
       "loyalty_flag                         \n",
       "Loyal customer    7.866715  1.0  14.8\n",
       "New customer      7.726155  1.0  14.8\n",
       "Regular customer  7.797883  1.0  14.8"
      ]
     },
     "execution_count": 11,
     "metadata": {},
     "output_type": "execute_result"
    }
   ],
   "source": [
    "df_ords_prods_merge.groupby('loyalty_flag').agg({'prices':['mean', 'min', 'max']})"
   ]
  },
  {
   "cell_type": "markdown",
   "id": "2054bc08",
   "metadata": {},
   "source": [
    "the mean prices for loyal customers is lower than that of regular customers, and new customers have the highest mean of prices. the minimum and maximum are the same across the board"
   ]
  },
  {
   "cell_type": "code",
   "execution_count": 13,
   "id": "a6371a46",
   "metadata": {},
   "outputs": [],
   "source": [
    "#Target different types of spenders in their marketing campaigns"
   ]
  },
  {
   "cell_type": "code",
   "execution_count": 12,
   "id": "af496ee1",
   "metadata": {},
   "outputs": [],
   "source": [
    "df_ords_prods_merge['avg_price']=df_ords_prods_merge.groupby(['user_id'])['prices'].transform(np.mean)"
   ]
  },
  {
   "cell_type": "code",
   "execution_count": 14,
   "id": "855a525a",
   "metadata": {},
   "outputs": [],
   "source": [
    "df_ords_prods_merge.loc[df_ords_prods_merge['avg_price']>=10, 'spending_flag']='High spender'"
   ]
  },
  {
   "cell_type": "code",
   "execution_count": 15,
   "id": "38a0627b",
   "metadata": {},
   "outputs": [],
   "source": [
    "df_ords_prods_merge.loc[df_ords_prods_merge['avg_price']<=10, 'spending_flag']='Low spender'"
   ]
  },
  {
   "cell_type": "code",
   "execution_count": 16,
   "id": "e8bc67a7",
   "metadata": {},
   "outputs": [],
   "source": [
    "#Determine frequent vs non frequent customers"
   ]
  },
  {
   "cell_type": "code",
   "execution_count": 17,
   "id": "77b93d70",
   "metadata": {},
   "outputs": [],
   "source": [
    "df_ords_prods_merge['median_frequency']=df_ords_prods_merge.groupby(['user_id'])['days_since_prior_order'].transform(np.median)"
   ]
  },
  {
   "cell_type": "code",
   "execution_count": 18,
   "id": "685d256f",
   "metadata": {},
   "outputs": [],
   "source": [
    "df_ords_prods_merge.loc[df_ords_prods_merge['median_frequency']>=20, 'frequency_flag']='Non-frequent customer'"
   ]
  },
  {
   "cell_type": "code",
   "execution_count": 19,
   "id": "a4465e5a",
   "metadata": {},
   "outputs": [],
   "source": [
    "df_ords_prods_merge.loc[(df_ords_prods_merge['median_frequency']>10)&(df_ords_prods_merge['median_frequency']<=20), 'frequency_flag']='Regular customer'"
   ]
  },
  {
   "cell_type": "code",
   "execution_count": 20,
   "id": "5ce17ced",
   "metadata": {},
   "outputs": [],
   "source": [
    "df_ords_prods_merge.loc[df_ords_prods_merge['median_frequency']<=10, 'frequency_flag']='Frequent customer'"
   ]
  },
  {
   "cell_type": "code",
   "execution_count": 21,
   "id": "fe0bc9c1",
   "metadata": {},
   "outputs": [],
   "source": [
    "df_ords_prods_merge.to_pickle(os.path.join(path, '02 Data', 'Prepared Data', 'orders_products_aggr.pkl'))"
   ]
  },
  {
   "cell_type": "code",
   "execution_count": null,
   "id": "a5494580",
   "metadata": {},
   "outputs": [],
   "source": []
  }
 ],
 "metadata": {
  "kernelspec": {
   "display_name": "Python 3 (ipykernel)",
   "language": "python",
   "name": "python3"
  },
  "language_info": {
   "codemirror_mode": {
    "name": "ipython",
    "version": 3
   },
   "file_extension": ".py",
   "mimetype": "text/x-python",
   "name": "python",
   "nbconvert_exporter": "python",
   "pygments_lexer": "ipython3",
   "version": "3.11.4"
  }
 },
 "nbformat": 4,
 "nbformat_minor": 5
}
