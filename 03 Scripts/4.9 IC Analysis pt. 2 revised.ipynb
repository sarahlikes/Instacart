{
 "cells": [
  {
   "cell_type": "code",
   "execution_count": 1,
   "id": "e47d4abe",
   "metadata": {},
   "outputs": [],
   "source": [
    "#import libraries\n",
    "import pandas as pd\n",
    "import numpy as np\n",
    "import os\n",
    "import matplotlib.pyplot as plt\n",
    "import seaborn as sns\n",
    "import scipy\n",
    "import gc"
   ]
  },
  {
   "cell_type": "code",
   "execution_count": 4,
   "id": "2d5e1d95",
   "metadata": {},
   "outputs": [],
   "source": [
    "#import dataframe\n",
    "path=r'C:\\Users\\Alex\\Instacart Basket Analysis'"
   ]
  },
  {
   "cell_type": "code",
   "execution_count": 5,
   "id": "440e569d",
   "metadata": {},
   "outputs": [
    {
     "ename": "FileNotFoundError",
     "evalue": "[Errno 2] No such file or directory: 'C:\\\\Users\\\\Alex\\\\Instacart Basket Analysis\\\\02 Data\\\\Prepared Data\\\\Instacart_Basket_Merged.pkl'",
     "output_type": "error",
     "traceback": [
      "\u001b[1;31m---------------------------------------------------------------------------\u001b[0m",
      "\u001b[1;31mFileNotFoundError\u001b[0m                         Traceback (most recent call last)",
      "Cell \u001b[1;32mIn[5], line 1\u001b[0m\n\u001b[1;32m----> 1\u001b[0m df\u001b[38;5;241m=\u001b[39mpd\u001b[38;5;241m.\u001b[39mread_pickle(os\u001b[38;5;241m.\u001b[39mpath\u001b[38;5;241m.\u001b[39mjoin(path, \u001b[38;5;124m'\u001b[39m\u001b[38;5;124m02 Data\u001b[39m\u001b[38;5;124m'\u001b[39m, \u001b[38;5;124m'\u001b[39m\u001b[38;5;124mPrepared Data\u001b[39m\u001b[38;5;124m'\u001b[39m, \u001b[38;5;124m'\u001b[39m\u001b[38;5;124mInstacart_Basket_Merged.pkl\u001b[39m\u001b[38;5;124m'\u001b[39m))\n",
      "File \u001b[1;32m~\\Documents\\anacona\\Lib\\site-packages\\pandas\\io\\pickle.py:190\u001b[0m, in \u001b[0;36mread_pickle\u001b[1;34m(filepath_or_buffer, compression, storage_options)\u001b[0m\n\u001b[0;32m    124\u001b[0m \u001b[38;5;250m\u001b[39m\u001b[38;5;124;03m\"\"\"\u001b[39;00m\n\u001b[0;32m    125\u001b[0m \u001b[38;5;124;03mLoad pickled pandas object (or any object) from file.\u001b[39;00m\n\u001b[0;32m    126\u001b[0m \n\u001b[1;32m   (...)\u001b[0m\n\u001b[0;32m    187\u001b[0m \u001b[38;5;124;03m4    4    9\u001b[39;00m\n\u001b[0;32m    188\u001b[0m \u001b[38;5;124;03m\"\"\"\u001b[39;00m\n\u001b[0;32m    189\u001b[0m excs_to_catch \u001b[38;5;241m=\u001b[39m (\u001b[38;5;167;01mAttributeError\u001b[39;00m, \u001b[38;5;167;01mImportError\u001b[39;00m, \u001b[38;5;167;01mModuleNotFoundError\u001b[39;00m, \u001b[38;5;167;01mTypeError\u001b[39;00m)\n\u001b[1;32m--> 190\u001b[0m \u001b[38;5;28;01mwith\u001b[39;00m get_handle(\n\u001b[0;32m    191\u001b[0m     filepath_or_buffer,\n\u001b[0;32m    192\u001b[0m     \u001b[38;5;124m\"\u001b[39m\u001b[38;5;124mrb\u001b[39m\u001b[38;5;124m\"\u001b[39m,\n\u001b[0;32m    193\u001b[0m     compression\u001b[38;5;241m=\u001b[39mcompression,\n\u001b[0;32m    194\u001b[0m     is_text\u001b[38;5;241m=\u001b[39m\u001b[38;5;28;01mFalse\u001b[39;00m,\n\u001b[0;32m    195\u001b[0m     storage_options\u001b[38;5;241m=\u001b[39mstorage_options,\n\u001b[0;32m    196\u001b[0m ) \u001b[38;5;28;01mas\u001b[39;00m handles:\n\u001b[0;32m    197\u001b[0m \n\u001b[0;32m    198\u001b[0m     \u001b[38;5;66;03m# 1) try standard library Pickle\u001b[39;00m\n\u001b[0;32m    199\u001b[0m     \u001b[38;5;66;03m# 2) try pickle_compat (older pandas version) to handle subclass changes\u001b[39;00m\n\u001b[0;32m    200\u001b[0m     \u001b[38;5;66;03m# 3) try pickle_compat with latin-1 encoding upon a UnicodeDecodeError\u001b[39;00m\n\u001b[0;32m    202\u001b[0m     \u001b[38;5;28;01mtry\u001b[39;00m:\n\u001b[0;32m    203\u001b[0m         \u001b[38;5;66;03m# TypeError for Cython complaints about object.__new__ vs Tick.__new__\u001b[39;00m\n\u001b[0;32m    204\u001b[0m         \u001b[38;5;28;01mtry\u001b[39;00m:\n",
      "File \u001b[1;32m~\\Documents\\anacona\\Lib\\site-packages\\pandas\\io\\common.py:865\u001b[0m, in \u001b[0;36mget_handle\u001b[1;34m(path_or_buf, mode, encoding, compression, memory_map, is_text, errors, storage_options)\u001b[0m\n\u001b[0;32m    856\u001b[0m         handle \u001b[38;5;241m=\u001b[39m \u001b[38;5;28mopen\u001b[39m(\n\u001b[0;32m    857\u001b[0m             handle,\n\u001b[0;32m    858\u001b[0m             ioargs\u001b[38;5;241m.\u001b[39mmode,\n\u001b[1;32m   (...)\u001b[0m\n\u001b[0;32m    861\u001b[0m             newline\u001b[38;5;241m=\u001b[39m\u001b[38;5;124m\"\u001b[39m\u001b[38;5;124m\"\u001b[39m,\n\u001b[0;32m    862\u001b[0m         )\n\u001b[0;32m    863\u001b[0m     \u001b[38;5;28;01melse\u001b[39;00m:\n\u001b[0;32m    864\u001b[0m         \u001b[38;5;66;03m# Binary mode\u001b[39;00m\n\u001b[1;32m--> 865\u001b[0m         handle \u001b[38;5;241m=\u001b[39m \u001b[38;5;28mopen\u001b[39m(handle, ioargs\u001b[38;5;241m.\u001b[39mmode)\n\u001b[0;32m    866\u001b[0m     handles\u001b[38;5;241m.\u001b[39mappend(handle)\n\u001b[0;32m    868\u001b[0m \u001b[38;5;66;03m# Convert BytesIO or file objects passed with an encoding\u001b[39;00m\n",
      "\u001b[1;31mFileNotFoundError\u001b[0m: [Errno 2] No such file or directory: 'C:\\\\Users\\\\Alex\\\\Instacart Basket Analysis\\\\02 Data\\\\Prepared Data\\\\Instacart_Basket_Merged.pkl'"
     ]
    }
   ],
   "source": [
    "df=pd.read_pickle(os.path.join(path, '02 Data', 'Prepared Data', 'Instacart_Basket_Merged.pkl'))"
   ]
  },
  {
   "cell_type": "code",
   "execution_count": null,
   "id": "f2b8bf8a",
   "metadata": {},
   "outputs": [],
   "source": [
    "df.head()"
   ]
  },
  {
   "cell_type": "code",
   "execution_count": null,
   "id": "fae82d9e",
   "metadata": {},
   "outputs": [],
   "source": [
    "df.describe"
   ]
  },
  {
   "cell_type": "code",
   "execution_count": null,
   "id": "e24d8201",
   "metadata": {},
   "outputs": [],
   "source": [
    "#create a bar chart\n",
    "bar_graph=df['orders_day_of_week'].value_counts().sort_index().plot.bar()"
   ]
  },
  {
   "cell_type": "code",
   "execution_count": null,
   "id": "1ef8f8f7",
   "metadata": {},
   "outputs": [],
   "source": [
    "bar_graph_color=df['orders_day_of_week'].value_counts().plot.bar(color=['purple', 'red', 'pink', 'orange', 'yellow', 'green', 'blue'])"
   ]
  },
  {
   "cell_type": "code",
   "execution_count": null,
   "id": "a2b104f3",
   "metadata": {},
   "outputs": [],
   "source": [
    "#Save graph\n",
    "bar_graph_color.figure.savefig(os.path.join(path,'04 Analysis', 'Visualizations', 'bar_ORDERS_DOW.png'))"
   ]
  },
  {
   "cell_type": "code",
   "execution_count": null,
   "id": "26bf5bc8",
   "metadata": {},
   "outputs": [],
   "source": [
    "#histogram for prices column with 25 bins\n",
    "hist_1=df['prices'].plot.hist(bins=25)"
   ]
  },
  {
   "cell_type": "code",
   "execution_count": null,
   "id": "99462411",
   "metadata": {},
   "outputs": [],
   "source": [
    "#Histogram for prices column with 70 bins\n",
    "hist_2=df['prices'].plot.hist(bins=70)"
   ]
  },
  {
   "cell_type": "code",
   "execution_count": null,
   "id": "333eab92",
   "metadata": {},
   "outputs": [],
   "source": [
    "#Scatterplot of the prices column\n",
    "scat=sns.scatterplot(x='prices', y='prices', data=df)"
   ]
  },
  {
   "cell_type": "code",
   "execution_count": null,
   "id": "94e14393",
   "metadata": {},
   "outputs": [],
   "source": [
    "#Creating a 70/30 Sampling of the dataframe\n",
    "np.random.seed(4)"
   ]
  },
  {
   "cell_type": "code",
   "execution_count": null,
   "id": "7b6de8d7",
   "metadata": {},
   "outputs": [],
   "source": [
    "dev=np.random.rand(len(df))<=0.7"
   ]
  },
  {
   "cell_type": "code",
   "execution_count": null,
   "id": "0e57bafb",
   "metadata": {},
   "outputs": [],
   "source": [
    "#List of randomized true and false values\n",
    "dev"
   ]
  },
  {
   "cell_type": "code",
   "execution_count": null,
   "id": "5de9f9db",
   "metadata": {},
   "outputs": [],
   "source": [
    "#Testing the size of the array\n",
    "dev.shape"
   ]
  },
  {
   "cell_type": "code",
   "execution_count": null,
   "id": "e4c2e855",
   "metadata": {},
   "outputs": [],
   "source": [
    "#Sample Example of the function\n",
    "np.random.rand(10)"
   ]
  },
  {
   "cell_type": "code",
   "execution_count": null,
   "id": "162de415",
   "metadata": {},
   "outputs": [],
   "source": [
    "#Store the dataframe into two samples, 70 / 30\n",
    "big=df[dev]\n",
    "small=df[~dev]"
   ]
  },
  {
   "cell_type": "code",
   "execution_count": null,
   "id": "51c76632",
   "metadata": {},
   "outputs": [],
   "source": [
    "#Length of the sum of the two sample spaces\n",
    "len(big)+len(small)"
   ]
  },
  {
   "cell_type": "code",
   "execution_count": null,
   "id": "4c5b12bc",
   "metadata": {},
   "outputs": [],
   "source": [
    "#Creating another dataframe to include only orders_day_of_week ad prices from the small sample space\n",
    "df_2=small[['orders_day_of_week', 'prices']]"
   ]
  },
  {
   "cell_type": "code",
   "execution_count": null,
   "id": "f5cbb313",
   "metadata": {},
   "outputs": [],
   "source": [
    "#Creating a line graph using the dataframe made of the small sample space\n",
    "line=sns.lineplot(data=df_2, x='orders_day_of_week', y='prices')"
   ]
  },
  {
   "cell_type": "code",
   "execution_count": null,
   "id": "cf5c4010",
   "metadata": {},
   "outputs": [],
   "source": [
    "#Create a histogram of the \"orders_hour_of_day\" column\n",
    "hist_3=df['order_time_of_day'].plot.hist(bins=24)"
   ]
  },
  {
   "cell_type": "code",
   "execution_count": null,
   "id": "c8297607",
   "metadata": {},
   "outputs": [],
   "source": [
    "#Plotting bar chart to measure loyalty\n",
    "bar_4=df['loyalty_flag'].value_counts().plot.bar()"
   ]
  },
  {
   "cell_type": "code",
   "execution_count": null,
   "id": "9042fd15",
   "metadata": {},
   "outputs": [],
   "source": [
    "#Line chart to determine if there's a difference in expenditure between hour of day and prices\n",
    "df_line=small[['order_time_of_day', 'prices']]"
   ]
  },
  {
   "cell_type": "code",
   "execution_count": null,
   "id": "81a81258",
   "metadata": {},
   "outputs": [],
   "source": [
    "line_2=sns.lineplot(data=df_line, x='order_time_of_day', y='prices')"
   ]
  },
  {
   "cell_type": "code",
   "execution_count": null,
   "id": "0d352ef0",
   "metadata": {},
   "outputs": [],
   "source": [
    "#Line chart to determine if there's a connection between age and number of dependants\n",
    "df_line_2=small[['age', 'number_of_dependants']]"
   ]
  },
  {
   "cell_type": "code",
   "execution_count": null,
   "id": "19ab92d2",
   "metadata": {},
   "outputs": [],
   "source": [
    "#Creating the line chart\n",
    "line_3=sns.lineplot(data=df_line_2, x='age', y='number_of_dependants')"
   ]
  },
  {
   "cell_type": "code",
   "execution_count": null,
   "id": "c68fd719",
   "metadata": {},
   "outputs": [],
   "source": [
    "#Scatterplot to determine if there is a connection between age and spending power\n",
    "scat_2=sns.scatterplot(x='age', y='income', data=df)"
   ]
  },
  {
   "cell_type": "code",
   "execution_count": null,
   "id": "26feb3f6",
   "metadata": {},
   "outputs": [],
   "source": [
    "#Export your visualizations as .png files in your relevant project folders"
   ]
  },
  {
   "cell_type": "code",
   "execution_count": null,
   "id": "b7e78f03",
   "metadata": {},
   "outputs": [],
   "source": [
    "#Export bar chart for order_day_of_week column\n",
    "bar_graph_color.figure.savefig(os.path.join(path, '04 Analysis', 'Visualizations', 'BAR_ORDERS_DOW'))"
   ]
  },
  {
   "cell_type": "code",
   "execution_count": null,
   "id": "31b75033",
   "metadata": {},
   "outputs": [],
   "source": [
    "#Export Histogram for prices column with 25 bins\n",
    "hist_1.figure.savefig(os.path.join(path, '04 Analysis', 'Visualizations', 'HIST_PRICES_25.png'))"
   ]
  },
  {
   "cell_type": "code",
   "execution_count": null,
   "id": "af40f1c9",
   "metadata": {},
   "outputs": [],
   "source": [
    "#Export Historgram for prices column with 70 bins\n",
    "hist_2.figure.savefig(os.path.join(path, '04 Analysis', 'Visualizations', 'HIST_PRICES_70.png'))"
   ]
  },
  {
   "cell_type": "code",
   "execution_count": null,
   "id": "6a559735",
   "metadata": {},
   "outputs": [],
   "source": [
    "#Export Scatterplot of the prices column\n",
    "scat.figure.savefig(os.path.join(path, '04 Analysis', 'Visualizations', 'SCAT_PRICES.png'))"
   ]
  },
  {
   "cell_type": "code",
   "execution_count": null,
   "id": "f8ae3090",
   "metadata": {},
   "outputs": [],
   "source": [
    "#Export line chart of prices vs order_day_of_week\n",
    "line.figure.savefig(os.path.join(path, '04 Analysis','Visualizations','LINE_PRICE_DOW.png'))"
   ]
  },
  {
   "cell_type": "code",
   "execution_count": null,
   "id": "69b1f233",
   "metadata": {},
   "outputs": [],
   "source": [
    "#Export Histogram for order_hour_of_day column\n",
    "hist_3.figure.savefig(os.path.join(path, '04 Analysis','Visualizations','HIST_ORDER_HOD.png'))"
   ]
  },
  {
   "cell_type": "code",
   "execution_count": null,
   "id": "a995ff54",
   "metadata": {},
   "outputs": [],
   "source": [
    "#Export bar chart to measure loyalty frequency\n",
    "bar_4.figure.savefig(os.path.join(path, '04 Analysis','Visualizations','BAR_LOYAL.png'))"
   ]
  },
  {
   "cell_type": "code",
   "execution_count": null,
   "id": "ece8d9a8",
   "metadata": {},
   "outputs": [],
   "source": [
    "#Export line chart to determine if there's a difference in expenditure between hour of day and prices\n",
    "line_2.figure.savefig(os.path.join(path,'04 Analysis','Visualizations','LINE_PRICE_HOD.png'))"
   ]
  },
  {
   "cell_type": "code",
   "execution_count": null,
   "id": "dcc4964c",
   "metadata": {},
   "outputs": [],
   "source": [
    "#Export line chart to determine if there's connection between age and number of dependants\n",
    "line_3.figure.savefig(os.path.join(path,'04 Analysis','Visualizations','LINE_AGE_DEP.png'))"
   ]
  },
  {
   "cell_type": "code",
   "execution_count": null,
   "id": "e706c52e",
   "metadata": {},
   "outputs": [],
   "source": [
    "#Export scatterplot to determine if there is a connection between age and spending power\n",
    "scat_2.figure.savefig(os.path.join(path,'04 Analysis','Visualizations','SCAT_AGE_INCOME.png'))"
   ]
  },
  {
   "cell_type": "code",
   "execution_count": null,
   "id": "94adad53",
   "metadata": {},
   "outputs": [],
   "source": []
  }
 ],
 "metadata": {
  "kernelspec": {
   "display_name": "Python 3 (ipykernel)",
   "language": "python",
   "name": "python3"
  },
  "language_info": {
   "codemirror_mode": {
    "name": "ipython",
    "version": 3
   },
   "file_extension": ".py",
   "mimetype": "text/x-python",
   "name": "python",
   "nbconvert_exporter": "python",
   "pygments_lexer": "ipython3",
   "version": "3.11.3"
  }
 },
 "nbformat": 4,
 "nbformat_minor": 5
}
