{
 "cells": [
  {
   "cell_type": "code",
   "execution_count": 1,
   "id": "944f9c5b",
   "metadata": {},
   "outputs": [],
   "source": [
    "#Import libraries\n",
    "import pandas as pd\n",
    "import numpy as np\n",
    "import os\n",
    "import matplotlib.pyplot as plt\n",
    "import seaborn as sns\n",
    "import scipy\n",
    "import gc"
   ]
  },
  {
   "cell_type": "code",
   "execution_count": 2,
   "id": "73317112",
   "metadata": {},
   "outputs": [],
   "source": [
    "#Import dataframe\n",
    "path=r'C:\\Users\\Alex\\Instacart Basket Analysis'"
   ]
  },
  {
   "cell_type": "code",
   "execution_count": 3,
   "id": "e15f4327",
   "metadata": {},
   "outputs": [],
   "source": [
    "df_final=pd.read_pickle(os.path.join(path, '02 Data', 'Prepared Data', 'HIGH_ACTIVITY_CUSTOMER.pkl'))"
   ]
  },
  {
   "cell_type": "markdown",
   "id": "9a8ad85c",
   "metadata": {},
   "source": [
    "q-- should i be importing ^this df, with only the high activity customers, as q 4 says the cfo wants low activity customers excluded, or 'Instacart_Basket_Merged' as this includes everything? "
   ]
  },
  {
   "cell_type": "code",
   "execution_count": 4,
   "id": "689dcd84",
   "metadata": {},
   "outputs": [],
   "source": [
    "#Create a list holding True/False values to the test np.random.rant() <=0.7\\n\n",
    "dev=np.random.rand(len(df_final))<=0.7"
   ]
  },
  {
   "cell_type": "code",
   "execution_count": 5,
   "id": "bdc64ff1",
   "metadata": {},
   "outputs": [],
   "source": [
    "#Store 70% of the sample in the dataframe big\n",
    "big=df_final[dev]"
   ]
  },
  {
   "cell_type": "code",
   "execution_count": 6,
   "id": "56a1850d",
   "metadata": {},
   "outputs": [],
   "source": [
    "#Store 30% of the sample in the dataframe small\n",
    "small=df_final[~dev]"
   ]
  },
  {
   "cell_type": "code",
   "execution_count": 7,
   "id": "4b5b272a",
   "metadata": {},
   "outputs": [
    {
     "data": {
      "text/plain": [
       "3129407"
      ]
     },
     "execution_count": 7,
     "metadata": {},
     "output_type": "execute_result"
    }
   ],
   "source": [
    "#Add both samples together to check results\n",
    "len(df_final)"
   ]
  },
  {
   "cell_type": "code",
   "execution_count": 8,
   "id": "398112cf",
   "metadata": {},
   "outputs": [
    {
     "data": {
      "text/plain": [
       "3129407"
      ]
     },
     "execution_count": 8,
     "metadata": {},
     "output_type": "execute_result"
    }
   ],
   "source": [
    "len(big)+len(small)"
   ]
  },
  {
   "cell_type": "markdown",
   "id": "531e446e",
   "metadata": {},
   "source": [
    "confirmed-- rows in both samples added together equals the number of rows as the original df"
   ]
  },
  {
   "cell_type": "code",
   "execution_count": 9,
   "id": "cd851334",
   "metadata": {},
   "outputs": [
    {
     "data": {
      "text/plain": [
       "Index(['user_id', 'gender', 'state', 'age', 'date_joined',\n",
       "       'number_of_dependants', 'marital_status', 'income', 'order_id',\n",
       "       'eval_set', 'order_number', 'orders_day_of_week', 'order_time_of_day',\n",
       "       'days_since_prior_order', 'product_id', 'add_to_cart_order',\n",
       "       'reordered', 'product_name', 'aisle_id', 'department_id', 'prices',\n",
       "       'price_range_loc', 'Busiest_day', 'Busiest_days',\n",
       "       'busiest_period_of_day', 'max_order', 'loyalty_flag', 'avg_price',\n",
       "       'spending_flag', 'median_frequency', 'frequency_flag', '_merge',\n",
       "       'region', 'activity_flag'],\n",
       "      dtype='object')"
      ]
     },
     "execution_count": 9,
     "metadata": {},
     "output_type": "execute_result"
    }
   ],
   "source": [
    "#See columns available for analysis\n",
    "df_final.columns"
   ]
  },
  {
   "cell_type": "code",
   "execution_count": 10,
   "id": "fe05908a",
   "metadata": {},
   "outputs": [],
   "source": [
    "#Reduce samples to columns relevant to analysis\n",
    "df_final_subset=small[['gender', 'state', 'age', 'number_of_dependants', 'marital_status', 'income', 'order_number', 'orders_day_of_week', 'order_time_of_day', 'department_id', 'prices', 'price_range_loc', 'Busiest_day', 'busiest_period_of_day', 'region', 'loyalty_flag', 'spending_flag', 'frequency_flag']]"
   ]
  },
  {
   "cell_type": "code",
   "execution_count": 11,
   "id": "268481fc",
   "metadata": {},
   "outputs": [
    {
     "data": {
      "text/html": [
       "<div>\n",
       "<style scoped>\n",
       "    .dataframe tbody tr th:only-of-type {\n",
       "        vertical-align: middle;\n",
       "    }\n",
       "\n",
       "    .dataframe tbody tr th {\n",
       "        vertical-align: top;\n",
       "    }\n",
       "\n",
       "    .dataframe thead th {\n",
       "        text-align: right;\n",
       "    }\n",
       "</style>\n",
       "<table border=\"1\" class=\"dataframe\">\n",
       "  <thead>\n",
       "    <tr style=\"text-align: right;\">\n",
       "      <th></th>\n",
       "      <th>gender</th>\n",
       "      <th>state</th>\n",
       "      <th>age</th>\n",
       "      <th>number_of_dependants</th>\n",
       "      <th>marital_status</th>\n",
       "      <th>income</th>\n",
       "      <th>order_number</th>\n",
       "      <th>orders_day_of_week</th>\n",
       "      <th>order_time_of_day</th>\n",
       "      <th>department_id</th>\n",
       "      <th>prices</th>\n",
       "      <th>price_range_loc</th>\n",
       "      <th>Busiest_day</th>\n",
       "      <th>busiest_period_of_day</th>\n",
       "      <th>region</th>\n",
       "      <th>loyalty_flag</th>\n",
       "      <th>spending_flag</th>\n",
       "      <th>frequency_flag</th>\n",
       "    </tr>\n",
       "  </thead>\n",
       "  <tbody>\n",
       "    <tr>\n",
       "      <th>7</th>\n",
       "      <td>Female</td>\n",
       "      <td>Missouri</td>\n",
       "      <td>48</td>\n",
       "      <td>3</td>\n",
       "      <td>married</td>\n",
       "      <td>165665</td>\n",
       "      <td>7</td>\n",
       "      <td>5</td>\n",
       "      <td>15</td>\n",
       "      <td>16</td>\n",
       "      <td>12.6</td>\n",
       "      <td>Mid range product</td>\n",
       "      <td>Regularly busy</td>\n",
       "      <td>Most Orders</td>\n",
       "      <td>Midwest</td>\n",
       "      <td>Regular customer</td>\n",
       "      <td>High spender</td>\n",
       "      <td>Regular customer</td>\n",
       "    </tr>\n",
       "    <tr>\n",
       "      <th>20</th>\n",
       "      <td>Female</td>\n",
       "      <td>Pennsylvania</td>\n",
       "      <td>56</td>\n",
       "      <td>2</td>\n",
       "      <td>married</td>\n",
       "      <td>141705</td>\n",
       "      <td>5</td>\n",
       "      <td>1</td>\n",
       "      <td>9</td>\n",
       "      <td>7</td>\n",
       "      <td>9.0</td>\n",
       "      <td>Mid range product</td>\n",
       "      <td>Regularly busy</td>\n",
       "      <td>Most Orders</td>\n",
       "      <td>Newengland</td>\n",
       "      <td>Regular customer</td>\n",
       "      <td>High spender</td>\n",
       "      <td>Regular customer</td>\n",
       "    </tr>\n",
       "    <tr>\n",
       "      <th>22</th>\n",
       "      <td>Female</td>\n",
       "      <td>Pennsylvania</td>\n",
       "      <td>56</td>\n",
       "      <td>2</td>\n",
       "      <td>married</td>\n",
       "      <td>141705</td>\n",
       "      <td>8</td>\n",
       "      <td>1</td>\n",
       "      <td>15</td>\n",
       "      <td>7</td>\n",
       "      <td>9.0</td>\n",
       "      <td>Mid range product</td>\n",
       "      <td>Regularly busy</td>\n",
       "      <td>Most Orders</td>\n",
       "      <td>Newengland</td>\n",
       "      <td>Regular customer</td>\n",
       "      <td>High spender</td>\n",
       "      <td>Regular customer</td>\n",
       "    </tr>\n",
       "    <tr>\n",
       "      <th>25</th>\n",
       "      <td>Female</td>\n",
       "      <td>Pennsylvania</td>\n",
       "      <td>56</td>\n",
       "      <td>2</td>\n",
       "      <td>married</td>\n",
       "      <td>141705</td>\n",
       "      <td>4</td>\n",
       "      <td>1</td>\n",
       "      <td>17</td>\n",
       "      <td>16</td>\n",
       "      <td>12.6</td>\n",
       "      <td>Mid range product</td>\n",
       "      <td>Regularly busy</td>\n",
       "      <td>Average orders</td>\n",
       "      <td>Newengland</td>\n",
       "      <td>Regular customer</td>\n",
       "      <td>High spender</td>\n",
       "      <td>Regular customer</td>\n",
       "    </tr>\n",
       "    <tr>\n",
       "      <th>27</th>\n",
       "      <td>Female</td>\n",
       "      <td>Pennsylvania</td>\n",
       "      <td>56</td>\n",
       "      <td>2</td>\n",
       "      <td>married</td>\n",
       "      <td>141705</td>\n",
       "      <td>7</td>\n",
       "      <td>5</td>\n",
       "      <td>15</td>\n",
       "      <td>16</td>\n",
       "      <td>12.6</td>\n",
       "      <td>Mid range product</td>\n",
       "      <td>Regularly busy</td>\n",
       "      <td>Most Orders</td>\n",
       "      <td>Newengland</td>\n",
       "      <td>Regular customer</td>\n",
       "      <td>High spender</td>\n",
       "      <td>Regular customer</td>\n",
       "    </tr>\n",
       "  </tbody>\n",
       "</table>\n",
       "</div>"
      ],
      "text/plain": [
       "    gender         state  age  number_of_dependants marital_status  income  \\\n",
       "7   Female      Missouri   48                     3        married  165665   \n",
       "20  Female  Pennsylvania   56                     2        married  141705   \n",
       "22  Female  Pennsylvania   56                     2        married  141705   \n",
       "25  Female  Pennsylvania   56                     2        married  141705   \n",
       "27  Female  Pennsylvania   56                     2        married  141705   \n",
       "\n",
       "    order_number  orders_day_of_week  order_time_of_day  department_id  \\\n",
       "7              7                   5                 15             16   \n",
       "20             5                   1                  9              7   \n",
       "22             8                   1                 15              7   \n",
       "25             4                   1                 17             16   \n",
       "27             7                   5                 15             16   \n",
       "\n",
       "    prices    price_range_loc     Busiest_day busiest_period_of_day  \\\n",
       "7     12.6  Mid range product  Regularly busy           Most Orders   \n",
       "20     9.0  Mid range product  Regularly busy           Most Orders   \n",
       "22     9.0  Mid range product  Regularly busy           Most Orders   \n",
       "25    12.6  Mid range product  Regularly busy        Average orders   \n",
       "27    12.6  Mid range product  Regularly busy           Most Orders   \n",
       "\n",
       "        region      loyalty_flag spending_flag    frequency_flag  \n",
       "7      Midwest  Regular customer  High spender  Regular customer  \n",
       "20  Newengland  Regular customer  High spender  Regular customer  \n",
       "22  Newengland  Regular customer  High spender  Regular customer  \n",
       "25  Newengland  Regular customer  High spender  Regular customer  \n",
       "27  Newengland  Regular customer  High spender  Regular customer  "
      ]
     },
     "execution_count": 11,
     "metadata": {},
     "output_type": "execute_result"
    }
   ],
   "source": [
    "df_final_subset.head()"
   ]
  },
  {
   "cell_type": "code",
   "execution_count": 12,
   "id": "090e7dfd",
   "metadata": {},
   "outputs": [
    {
     "data": {
      "text/plain": [
       "(938229, 18)"
      ]
     },
     "execution_count": 12,
     "metadata": {},
     "output_type": "execute_result"
    }
   ],
   "source": [
    "df_final_subset.shape"
   ]
  },
  {
   "cell_type": "code",
   "execution_count": 13,
   "id": "13276455",
   "metadata": {},
   "outputs": [],
   "source": [
    "#Import departments data\n",
    "df_depts=pd.read_csv(os.path.join(path, '02 Data', 'Prepared Data', 'departments_wrangled.csv'), index_col=0)"
   ]
  },
  {
   "cell_type": "markdown",
   "id": "43fe0860",
   "metadata": {},
   "source": [
    "^what does index_col=0 do/indicate here? "
   ]
  },
  {
   "cell_type": "code",
   "execution_count": 14,
   "id": "670d943b",
   "metadata": {},
   "outputs": [
    {
     "data": {
      "text/html": [
       "<div>\n",
       "<style scoped>\n",
       "    .dataframe tbody tr th:only-of-type {\n",
       "        vertical-align: middle;\n",
       "    }\n",
       "\n",
       "    .dataframe tbody tr th {\n",
       "        vertical-align: top;\n",
       "    }\n",
       "\n",
       "    .dataframe thead th {\n",
       "        text-align: right;\n",
       "    }\n",
       "</style>\n",
       "<table border=\"1\" class=\"dataframe\">\n",
       "  <thead>\n",
       "    <tr style=\"text-align: right;\">\n",
       "      <th></th>\n",
       "      <th>department</th>\n",
       "    </tr>\n",
       "  </thead>\n",
       "  <tbody>\n",
       "    <tr>\n",
       "      <th>1</th>\n",
       "      <td>frozen</td>\n",
       "    </tr>\n",
       "    <tr>\n",
       "      <th>2</th>\n",
       "      <td>other</td>\n",
       "    </tr>\n",
       "    <tr>\n",
       "      <th>3</th>\n",
       "      <td>bakery</td>\n",
       "    </tr>\n",
       "    <tr>\n",
       "      <th>4</th>\n",
       "      <td>produce</td>\n",
       "    </tr>\n",
       "    <tr>\n",
       "      <th>5</th>\n",
       "      <td>alcohol</td>\n",
       "    </tr>\n",
       "  </tbody>\n",
       "</table>\n",
       "</div>"
      ],
      "text/plain": [
       "  department\n",
       "1     frozen\n",
       "2      other\n",
       "3     bakery\n",
       "4    produce\n",
       "5    alcohol"
      ]
     },
     "execution_count": 14,
     "metadata": {},
     "output_type": "execute_result"
    }
   ],
   "source": [
    "df_depts.head()"
   ]
  },
  {
   "cell_type": "code",
   "execution_count": 15,
   "id": "b0c40e63",
   "metadata": {},
   "outputs": [],
   "source": [
    "#Create data dictionary for values in the \"department_id\" column\n",
    "data_dict=df_depts.to_dict('index')"
   ]
  },
  {
   "cell_type": "code",
   "execution_count": 16,
   "id": "d95f6031",
   "metadata": {},
   "outputs": [
    {
     "data": {
      "text/plain": [
       "{1: {'department': 'frozen'},\n",
       " 2: {'department': 'other'},\n",
       " 3: {'department': 'bakery'},\n",
       " 4: {'department': 'produce'},\n",
       " 5: {'department': 'alcohol'},\n",
       " 6: {'department': 'international'},\n",
       " 7: {'department': 'beverages'},\n",
       " 8: {'department': 'pets'},\n",
       " 9: {'department': 'dry goods pasta'},\n",
       " 10: {'department': 'bulk'},\n",
       " 11: {'department': 'personal care'},\n",
       " 12: {'department': 'meat seafood'},\n",
       " 13: {'department': 'pantry'},\n",
       " 14: {'department': 'breakfast'},\n",
       " 15: {'department': 'canned goods'},\n",
       " 16: {'department': 'dairy eggs'},\n",
       " 17: {'department': 'household'},\n",
       " 18: {'department': 'babies'},\n",
       " 19: {'department': 'snacks'},\n",
       " 20: {'department': 'deli'},\n",
       " 21: {'department': 'missing'}}"
      ]
     },
     "execution_count": 16,
     "metadata": {},
     "output_type": "execute_result"
    }
   ],
   "source": [
    "data_dict"
   ]
  },
  {
   "cell_type": "code",
   "execution_count": 17,
   "id": "30d0ae60",
   "metadata": {
    "scrolled": true
   },
   "outputs": [
    {
     "name": "stderr",
     "output_type": "stream",
     "text": [
      "C:\\Users\\Alex\\AppData\\Local\\Temp\\ipykernel_9288\\3312943187.py:2: SettingWithCopyWarning: \n",
      "A value is trying to be set on a copy of a slice from a DataFrame.\n",
      "Try using .loc[row_indexer,col_indexer] = value instead\n",
      "\n",
      "See the caveats in the documentation: https://pandas.pydata.org/pandas-docs/stable/user_guide/indexing.html#returning-a-view-versus-a-copy\n",
      "  df_final_subset.loc[df_final_subset['department_id']==1, 'department']='frozen'\n"
     ]
    }
   ],
   "source": [
    "#Assign department_id values using data dictionary\n",
    "df_final_subset.loc[df_final_subset['department_id']==1, 'department']='frozen'"
   ]
  },
  {
   "cell_type": "code",
   "execution_count": 18,
   "id": "319e2abf",
   "metadata": {},
   "outputs": [],
   "source": [
    "df_final_subset.loc[df_final_subset['department_id']==2, 'department']='other'"
   ]
  },
  {
   "cell_type": "code",
   "execution_count": 19,
   "id": "0ab37737",
   "metadata": {},
   "outputs": [],
   "source": [
    "df_final_subset.loc[df_final_subset['department_id']==3, 'department']='bakery'"
   ]
  },
  {
   "cell_type": "code",
   "execution_count": 20,
   "id": "e98a45fd",
   "metadata": {},
   "outputs": [],
   "source": [
    "df_final_subset.loc[df_final_subset['department_id']==4, 'department']='produce'"
   ]
  },
  {
   "cell_type": "code",
   "execution_count": 21,
   "id": "60ee2a3e",
   "metadata": {},
   "outputs": [],
   "source": [
    "df_final_subset.loc[df_final_subset['department_id']==5, 'department']='alcohol'"
   ]
  },
  {
   "cell_type": "code",
   "execution_count": 22,
   "id": "9b6551ea",
   "metadata": {},
   "outputs": [],
   "source": [
    "df_final_subset.loc[df_final_subset['department_id']==6, 'department']='international'"
   ]
  },
  {
   "cell_type": "code",
   "execution_count": 23,
   "id": "270b6df1",
   "metadata": {},
   "outputs": [],
   "source": [
    "df_final_subset.loc[df_final_subset['department_id']==7, 'department']='beverages'"
   ]
  },
  {
   "cell_type": "code",
   "execution_count": 24,
   "id": "2e6d6bcb",
   "metadata": {},
   "outputs": [],
   "source": [
    "df_final_subset.loc[df_final_subset['department_id']==8, 'department']='pets'"
   ]
  },
  {
   "cell_type": "code",
   "execution_count": 25,
   "id": "eb4041c7",
   "metadata": {},
   "outputs": [],
   "source": [
    "df_final_subset.loc[df_final_subset['department_id']==9, 'department']='dry goods pasta'"
   ]
  },
  {
   "cell_type": "code",
   "execution_count": 26,
   "id": "2a4fcba7",
   "metadata": {},
   "outputs": [],
   "source": [
    "df_final_subset.loc[df_final_subset['department_id']==10, 'department']='bulk'"
   ]
  },
  {
   "cell_type": "code",
   "execution_count": 27,
   "id": "95aac4cd",
   "metadata": {},
   "outputs": [],
   "source": [
    "df_final_subset.loc[df_final_subset['department_id']==11, 'department']='personal care'"
   ]
  },
  {
   "cell_type": "code",
   "execution_count": 28,
   "id": "024f15e9",
   "metadata": {},
   "outputs": [],
   "source": [
    "df_final_subset.loc[df_final_subset['department_id']==12, 'department']='meat seafood'"
   ]
  },
  {
   "cell_type": "code",
   "execution_count": 29,
   "id": "3e9a8be3",
   "metadata": {},
   "outputs": [],
   "source": [
    "df_final_subset.loc[df_final_subset['department_id']==13, 'department']='pantry'"
   ]
  },
  {
   "cell_type": "code",
   "execution_count": 30,
   "id": "b94d6121",
   "metadata": {},
   "outputs": [],
   "source": [
    "df_final_subset.loc[df_final_subset['department_id']==14, 'department']='breakfast'"
   ]
  },
  {
   "cell_type": "code",
   "execution_count": 31,
   "id": "2c71fa58",
   "metadata": {},
   "outputs": [],
   "source": [
    "df_final_subset.loc[df_final_subset['department_id']==15, 'department']='canned goods'"
   ]
  },
  {
   "cell_type": "code",
   "execution_count": 32,
   "id": "61f768ca",
   "metadata": {},
   "outputs": [],
   "source": [
    "df_final_subset.loc[df_final_subset['department_id']==16, 'department']='dairy eggs'"
   ]
  },
  {
   "cell_type": "code",
   "execution_count": 33,
   "id": "05f34250",
   "metadata": {},
   "outputs": [],
   "source": [
    "df_final_subset.loc[df_final_subset['department_id']==17, 'department']='household'"
   ]
  },
  {
   "cell_type": "code",
   "execution_count": 34,
   "id": "3195d363",
   "metadata": {},
   "outputs": [],
   "source": [
    "df_final_subset.loc[df_final_subset['department_id']==18, 'department']='babies'"
   ]
  },
  {
   "cell_type": "code",
   "execution_count": 35,
   "id": "58ce51b3",
   "metadata": {},
   "outputs": [],
   "source": [
    "df_final_subset.loc[df_final_subset['department_id']==19, 'department']='snacks'"
   ]
  },
  {
   "cell_type": "code",
   "execution_count": 36,
   "id": "af4e3179",
   "metadata": {},
   "outputs": [],
   "source": [
    "df_final_subset.loc[df_final_subset['department_id']==20, 'department']='deli'"
   ]
  },
  {
   "cell_type": "code",
   "execution_count": 37,
   "id": "4a29a757",
   "metadata": {},
   "outputs": [],
   "source": [
    "df_final_subset.loc[df_final_subset['department_id']==21, 'department']='missing'"
   ]
  },
  {
   "cell_type": "code",
   "execution_count": 38,
   "id": "56f9ee0d",
   "metadata": {},
   "outputs": [
    {
     "data": {
      "text/plain": [
       "produce       573268\n",
       "dairy eggs    159831\n",
       "deli          101890\n",
       "beverages      41708\n",
       "snacks         35785\n",
       "pantry         21147\n",
       "breakfast       3476\n",
       "household       1124\n",
       "Name: department, dtype: int64"
      ]
     },
     "execution_count": 38,
     "metadata": {},
     "output_type": "execute_result"
    }
   ],
   "source": [
    "df_final_subset['department'].value_counts(dropna=False)"
   ]
  },
  {
   "cell_type": "code",
   "execution_count": 39,
   "id": "ba60c87a",
   "metadata": {},
   "outputs": [
    {
     "data": {
      "text/plain": [
       "(938229,)"
      ]
     },
     "execution_count": 39,
     "metadata": {},
     "output_type": "execute_result"
    }
   ],
   "source": [
    "df_final_subset['department'].shape"
   ]
  },
  {
   "cell_type": "code",
   "execution_count": 40,
   "id": "fa989760",
   "metadata": {},
   "outputs": [
    {
     "data": {
      "text/html": [
       "<div>\n",
       "<style scoped>\n",
       "    .dataframe tbody tr th:only-of-type {\n",
       "        vertical-align: middle;\n",
       "    }\n",
       "\n",
       "    .dataframe tbody tr th {\n",
       "        vertical-align: top;\n",
       "    }\n",
       "\n",
       "    .dataframe thead th {\n",
       "        text-align: right;\n",
       "    }\n",
       "</style>\n",
       "<table border=\"1\" class=\"dataframe\">\n",
       "  <thead>\n",
       "    <tr style=\"text-align: right;\">\n",
       "      <th></th>\n",
       "      <th>gender</th>\n",
       "      <th>state</th>\n",
       "      <th>age</th>\n",
       "      <th>number_of_dependants</th>\n",
       "      <th>marital_status</th>\n",
       "      <th>income</th>\n",
       "      <th>order_number</th>\n",
       "      <th>orders_day_of_week</th>\n",
       "      <th>order_time_of_day</th>\n",
       "      <th>department_id</th>\n",
       "      <th>prices</th>\n",
       "      <th>price_range_loc</th>\n",
       "      <th>Busiest_day</th>\n",
       "      <th>busiest_period_of_day</th>\n",
       "      <th>region</th>\n",
       "      <th>loyalty_flag</th>\n",
       "      <th>spending_flag</th>\n",
       "      <th>frequency_flag</th>\n",
       "      <th>department</th>\n",
       "    </tr>\n",
       "  </thead>\n",
       "  <tbody>\n",
       "    <tr>\n",
       "      <th>7</th>\n",
       "      <td>Female</td>\n",
       "      <td>Missouri</td>\n",
       "      <td>48</td>\n",
       "      <td>3</td>\n",
       "      <td>married</td>\n",
       "      <td>165665</td>\n",
       "      <td>7</td>\n",
       "      <td>5</td>\n",
       "      <td>15</td>\n",
       "      <td>16</td>\n",
       "      <td>12.6</td>\n",
       "      <td>Mid range product</td>\n",
       "      <td>Regularly busy</td>\n",
       "      <td>Most Orders</td>\n",
       "      <td>Midwest</td>\n",
       "      <td>Regular customer</td>\n",
       "      <td>High spender</td>\n",
       "      <td>Regular customer</td>\n",
       "      <td>dairy eggs</td>\n",
       "    </tr>\n",
       "    <tr>\n",
       "      <th>20</th>\n",
       "      <td>Female</td>\n",
       "      <td>Pennsylvania</td>\n",
       "      <td>56</td>\n",
       "      <td>2</td>\n",
       "      <td>married</td>\n",
       "      <td>141705</td>\n",
       "      <td>5</td>\n",
       "      <td>1</td>\n",
       "      <td>9</td>\n",
       "      <td>7</td>\n",
       "      <td>9.0</td>\n",
       "      <td>Mid range product</td>\n",
       "      <td>Regularly busy</td>\n",
       "      <td>Most Orders</td>\n",
       "      <td>Newengland</td>\n",
       "      <td>Regular customer</td>\n",
       "      <td>High spender</td>\n",
       "      <td>Regular customer</td>\n",
       "      <td>beverages</td>\n",
       "    </tr>\n",
       "    <tr>\n",
       "      <th>22</th>\n",
       "      <td>Female</td>\n",
       "      <td>Pennsylvania</td>\n",
       "      <td>56</td>\n",
       "      <td>2</td>\n",
       "      <td>married</td>\n",
       "      <td>141705</td>\n",
       "      <td>8</td>\n",
       "      <td>1</td>\n",
       "      <td>15</td>\n",
       "      <td>7</td>\n",
       "      <td>9.0</td>\n",
       "      <td>Mid range product</td>\n",
       "      <td>Regularly busy</td>\n",
       "      <td>Most Orders</td>\n",
       "      <td>Newengland</td>\n",
       "      <td>Regular customer</td>\n",
       "      <td>High spender</td>\n",
       "      <td>Regular customer</td>\n",
       "      <td>beverages</td>\n",
       "    </tr>\n",
       "    <tr>\n",
       "      <th>25</th>\n",
       "      <td>Female</td>\n",
       "      <td>Pennsylvania</td>\n",
       "      <td>56</td>\n",
       "      <td>2</td>\n",
       "      <td>married</td>\n",
       "      <td>141705</td>\n",
       "      <td>4</td>\n",
       "      <td>1</td>\n",
       "      <td>17</td>\n",
       "      <td>16</td>\n",
       "      <td>12.6</td>\n",
       "      <td>Mid range product</td>\n",
       "      <td>Regularly busy</td>\n",
       "      <td>Average orders</td>\n",
       "      <td>Newengland</td>\n",
       "      <td>Regular customer</td>\n",
       "      <td>High spender</td>\n",
       "      <td>Regular customer</td>\n",
       "      <td>dairy eggs</td>\n",
       "    </tr>\n",
       "    <tr>\n",
       "      <th>27</th>\n",
       "      <td>Female</td>\n",
       "      <td>Pennsylvania</td>\n",
       "      <td>56</td>\n",
       "      <td>2</td>\n",
       "      <td>married</td>\n",
       "      <td>141705</td>\n",
       "      <td>7</td>\n",
       "      <td>5</td>\n",
       "      <td>15</td>\n",
       "      <td>16</td>\n",
       "      <td>12.6</td>\n",
       "      <td>Mid range product</td>\n",
       "      <td>Regularly busy</td>\n",
       "      <td>Most Orders</td>\n",
       "      <td>Newengland</td>\n",
       "      <td>Regular customer</td>\n",
       "      <td>High spender</td>\n",
       "      <td>Regular customer</td>\n",
       "      <td>dairy eggs</td>\n",
       "    </tr>\n",
       "  </tbody>\n",
       "</table>\n",
       "</div>"
      ],
      "text/plain": [
       "    gender         state  age  number_of_dependants marital_status  income  \\\n",
       "7   Female      Missouri   48                     3        married  165665   \n",
       "20  Female  Pennsylvania   56                     2        married  141705   \n",
       "22  Female  Pennsylvania   56                     2        married  141705   \n",
       "25  Female  Pennsylvania   56                     2        married  141705   \n",
       "27  Female  Pennsylvania   56                     2        married  141705   \n",
       "\n",
       "    order_number  orders_day_of_week  order_time_of_day  department_id  \\\n",
       "7              7                   5                 15             16   \n",
       "20             5                   1                  9              7   \n",
       "22             8                   1                 15              7   \n",
       "25             4                   1                 17             16   \n",
       "27             7                   5                 15             16   \n",
       "\n",
       "    prices    price_range_loc     Busiest_day busiest_period_of_day  \\\n",
       "7     12.6  Mid range product  Regularly busy           Most Orders   \n",
       "20     9.0  Mid range product  Regularly busy           Most Orders   \n",
       "22     9.0  Mid range product  Regularly busy           Most Orders   \n",
       "25    12.6  Mid range product  Regularly busy        Average orders   \n",
       "27    12.6  Mid range product  Regularly busy           Most Orders   \n",
       "\n",
       "        region      loyalty_flag spending_flag    frequency_flag  department  \n",
       "7      Midwest  Regular customer  High spender  Regular customer  dairy eggs  \n",
       "20  Newengland  Regular customer  High spender  Regular customer   beverages  \n",
       "22  Newengland  Regular customer  High spender  Regular customer   beverages  \n",
       "25  Newengland  Regular customer  High spender  Regular customer  dairy eggs  \n",
       "27  Newengland  Regular customer  High spender  Regular customer  dairy eggs  "
      ]
     },
     "execution_count": 40,
     "metadata": {},
     "output_type": "execute_result"
    }
   ],
   "source": [
    "df_final_subset.head()"
   ]
  },
  {
   "cell_type": "code",
   "execution_count": 41,
   "id": "c516aa61",
   "metadata": {},
   "outputs": [
    {
     "name": "stderr",
     "output_type": "stream",
     "text": [
      "C:\\Users\\Alex\\AppData\\Local\\Temp\\ipykernel_9288\\3019060698.py:2: SettingWithCopyWarning: \n",
      "A value is trying to be set on a copy of a slice from a DataFrame.\n",
      "Try using .loc[row_indexer,col_indexer] = value instead\n",
      "\n",
      "See the caveats in the documentation: https://pandas.pydata.org/pandas-docs/stable/user_guide/indexing.html#returning-a-view-versus-a-copy\n",
      "  df_final_subset.loc[(df_final_subset['age']<=17)&(df_final_subset['age']>=0), 'age_group']='Child'\n"
     ]
    }
   ],
   "source": [
    "#Create Age Groups\n",
    "df_final_subset.loc[(df_final_subset['age']<=17)&(df_final_subset['age']>=0), 'age_group']='Child'"
   ]
  },
  {
   "cell_type": "code",
   "execution_count": 42,
   "id": "6e8b1cd8",
   "metadata": {},
   "outputs": [],
   "source": [
    "df_final_subset.loc[(df_final_subset['age']<=30)&(df_final_subset['age']>=18), 'age_group']='Young Adult'"
   ]
  },
  {
   "cell_type": "code",
   "execution_count": 43,
   "id": "507f95f8",
   "metadata": {},
   "outputs": [],
   "source": [
    "df_final_subset.loc[(df_final_subset['age']<=65)&(df_final_subset['age']>=31), 'age_group']='Middle Aged Adult'"
   ]
  },
  {
   "cell_type": "code",
   "execution_count": 44,
   "id": "b9e57ae2",
   "metadata": {},
   "outputs": [],
   "source": [
    "df_final_subset.loc[(df_final_subset['age']>65), 'age_group']='Old Adult'"
   ]
  },
  {
   "cell_type": "code",
   "execution_count": 45,
   "id": "c098cb65",
   "metadata": {},
   "outputs": [
    {
     "data": {
      "text/plain": [
       "Middle Aged Adult    512919\n",
       "Old Adult            234829\n",
       "Young Adult          190481\n",
       "Name: age_group, dtype: int64"
      ]
     },
     "execution_count": 45,
     "metadata": {},
     "output_type": "execute_result"
    }
   ],
   "source": [
    "df_final_subset['age_group'].value_counts(dropna=False)"
   ]
  },
  {
   "cell_type": "code",
   "execution_count": 46,
   "id": "e9ada109",
   "metadata": {},
   "outputs": [
    {
     "data": {
      "text/plain": [
       "(938229,)"
      ]
     },
     "execution_count": 46,
     "metadata": {},
     "output_type": "execute_result"
    }
   ],
   "source": [
    "df_final_subset['age_group'].shape"
   ]
  },
  {
   "cell_type": "code",
   "execution_count": 47,
   "id": "58239aca",
   "metadata": {},
   "outputs": [
    {
     "data": {
      "text/html": [
       "<div>\n",
       "<style scoped>\n",
       "    .dataframe tbody tr th:only-of-type {\n",
       "        vertical-align: middle;\n",
       "    }\n",
       "\n",
       "    .dataframe tbody tr th {\n",
       "        vertical-align: top;\n",
       "    }\n",
       "\n",
       "    .dataframe thead th {\n",
       "        text-align: right;\n",
       "    }\n",
       "</style>\n",
       "<table border=\"1\" class=\"dataframe\">\n",
       "  <thead>\n",
       "    <tr style=\"text-align: right;\">\n",
       "      <th></th>\n",
       "      <th>gender</th>\n",
       "      <th>state</th>\n",
       "      <th>age</th>\n",
       "      <th>number_of_dependants</th>\n",
       "      <th>marital_status</th>\n",
       "      <th>income</th>\n",
       "      <th>order_number</th>\n",
       "      <th>orders_day_of_week</th>\n",
       "      <th>order_time_of_day</th>\n",
       "      <th>department_id</th>\n",
       "      <th>prices</th>\n",
       "      <th>price_range_loc</th>\n",
       "      <th>Busiest_day</th>\n",
       "      <th>busiest_period_of_day</th>\n",
       "      <th>region</th>\n",
       "      <th>loyalty_flag</th>\n",
       "      <th>spending_flag</th>\n",
       "      <th>frequency_flag</th>\n",
       "      <th>department</th>\n",
       "      <th>age_group</th>\n",
       "    </tr>\n",
       "  </thead>\n",
       "  <tbody>\n",
       "    <tr>\n",
       "      <th>7</th>\n",
       "      <td>Female</td>\n",
       "      <td>Missouri</td>\n",
       "      <td>48</td>\n",
       "      <td>3</td>\n",
       "      <td>married</td>\n",
       "      <td>165665</td>\n",
       "      <td>7</td>\n",
       "      <td>5</td>\n",
       "      <td>15</td>\n",
       "      <td>16</td>\n",
       "      <td>12.6</td>\n",
       "      <td>Mid range product</td>\n",
       "      <td>Regularly busy</td>\n",
       "      <td>Most Orders</td>\n",
       "      <td>Midwest</td>\n",
       "      <td>Regular customer</td>\n",
       "      <td>High spender</td>\n",
       "      <td>Regular customer</td>\n",
       "      <td>dairy eggs</td>\n",
       "      <td>Middle Aged Adult</td>\n",
       "    </tr>\n",
       "    <tr>\n",
       "      <th>20</th>\n",
       "      <td>Female</td>\n",
       "      <td>Pennsylvania</td>\n",
       "      <td>56</td>\n",
       "      <td>2</td>\n",
       "      <td>married</td>\n",
       "      <td>141705</td>\n",
       "      <td>5</td>\n",
       "      <td>1</td>\n",
       "      <td>9</td>\n",
       "      <td>7</td>\n",
       "      <td>9.0</td>\n",
       "      <td>Mid range product</td>\n",
       "      <td>Regularly busy</td>\n",
       "      <td>Most Orders</td>\n",
       "      <td>Newengland</td>\n",
       "      <td>Regular customer</td>\n",
       "      <td>High spender</td>\n",
       "      <td>Regular customer</td>\n",
       "      <td>beverages</td>\n",
       "      <td>Middle Aged Adult</td>\n",
       "    </tr>\n",
       "    <tr>\n",
       "      <th>22</th>\n",
       "      <td>Female</td>\n",
       "      <td>Pennsylvania</td>\n",
       "      <td>56</td>\n",
       "      <td>2</td>\n",
       "      <td>married</td>\n",
       "      <td>141705</td>\n",
       "      <td>8</td>\n",
       "      <td>1</td>\n",
       "      <td>15</td>\n",
       "      <td>7</td>\n",
       "      <td>9.0</td>\n",
       "      <td>Mid range product</td>\n",
       "      <td>Regularly busy</td>\n",
       "      <td>Most Orders</td>\n",
       "      <td>Newengland</td>\n",
       "      <td>Regular customer</td>\n",
       "      <td>High spender</td>\n",
       "      <td>Regular customer</td>\n",
       "      <td>beverages</td>\n",
       "      <td>Middle Aged Adult</td>\n",
       "    </tr>\n",
       "    <tr>\n",
       "      <th>25</th>\n",
       "      <td>Female</td>\n",
       "      <td>Pennsylvania</td>\n",
       "      <td>56</td>\n",
       "      <td>2</td>\n",
       "      <td>married</td>\n",
       "      <td>141705</td>\n",
       "      <td>4</td>\n",
       "      <td>1</td>\n",
       "      <td>17</td>\n",
       "      <td>16</td>\n",
       "      <td>12.6</td>\n",
       "      <td>Mid range product</td>\n",
       "      <td>Regularly busy</td>\n",
       "      <td>Average orders</td>\n",
       "      <td>Newengland</td>\n",
       "      <td>Regular customer</td>\n",
       "      <td>High spender</td>\n",
       "      <td>Regular customer</td>\n",
       "      <td>dairy eggs</td>\n",
       "      <td>Middle Aged Adult</td>\n",
       "    </tr>\n",
       "    <tr>\n",
       "      <th>27</th>\n",
       "      <td>Female</td>\n",
       "      <td>Pennsylvania</td>\n",
       "      <td>56</td>\n",
       "      <td>2</td>\n",
       "      <td>married</td>\n",
       "      <td>141705</td>\n",
       "      <td>7</td>\n",
       "      <td>5</td>\n",
       "      <td>15</td>\n",
       "      <td>16</td>\n",
       "      <td>12.6</td>\n",
       "      <td>Mid range product</td>\n",
       "      <td>Regularly busy</td>\n",
       "      <td>Most Orders</td>\n",
       "      <td>Newengland</td>\n",
       "      <td>Regular customer</td>\n",
       "      <td>High spender</td>\n",
       "      <td>Regular customer</td>\n",
       "      <td>dairy eggs</td>\n",
       "      <td>Middle Aged Adult</td>\n",
       "    </tr>\n",
       "  </tbody>\n",
       "</table>\n",
       "</div>"
      ],
      "text/plain": [
       "    gender         state  age  number_of_dependants marital_status  income  \\\n",
       "7   Female      Missouri   48                     3        married  165665   \n",
       "20  Female  Pennsylvania   56                     2        married  141705   \n",
       "22  Female  Pennsylvania   56                     2        married  141705   \n",
       "25  Female  Pennsylvania   56                     2        married  141705   \n",
       "27  Female  Pennsylvania   56                     2        married  141705   \n",
       "\n",
       "    order_number  orders_day_of_week  order_time_of_day  department_id  \\\n",
       "7              7                   5                 15             16   \n",
       "20             5                   1                  9              7   \n",
       "22             8                   1                 15              7   \n",
       "25             4                   1                 17             16   \n",
       "27             7                   5                 15             16   \n",
       "\n",
       "    prices    price_range_loc     Busiest_day busiest_period_of_day  \\\n",
       "7     12.6  Mid range product  Regularly busy           Most Orders   \n",
       "20     9.0  Mid range product  Regularly busy           Most Orders   \n",
       "22     9.0  Mid range product  Regularly busy           Most Orders   \n",
       "25    12.6  Mid range product  Regularly busy        Average orders   \n",
       "27    12.6  Mid range product  Regularly busy           Most Orders   \n",
       "\n",
       "        region      loyalty_flag spending_flag    frequency_flag  department  \\\n",
       "7      Midwest  Regular customer  High spender  Regular customer  dairy eggs   \n",
       "20  Newengland  Regular customer  High spender  Regular customer   beverages   \n",
       "22  Newengland  Regular customer  High spender  Regular customer   beverages   \n",
       "25  Newengland  Regular customer  High spender  Regular customer  dairy eggs   \n",
       "27  Newengland  Regular customer  High spender  Regular customer  dairy eggs   \n",
       "\n",
       "            age_group  \n",
       "7   Middle Aged Adult  \n",
       "20  Middle Aged Adult  \n",
       "22  Middle Aged Adult  \n",
       "25  Middle Aged Adult  \n",
       "27  Middle Aged Adult  "
      ]
     },
     "execution_count": 47,
     "metadata": {},
     "output_type": "execute_result"
    }
   ],
   "source": [
    "df_final_subset.head()"
   ]
  },
  {
   "cell_type": "code",
   "execution_count": 48,
   "id": "667c26b7",
   "metadata": {},
   "outputs": [
    {
     "name": "stderr",
     "output_type": "stream",
     "text": [
      "C:\\Users\\Alex\\AppData\\Local\\Temp\\ipykernel_9288\\2066670343.py:2: SettingWithCopyWarning: \n",
      "A value is trying to be set on a copy of a slice from a DataFrame.\n",
      "Try using .loc[row_indexer,col_indexer] = value instead\n",
      "\n",
      "See the caveats in the documentation: https://pandas.pydata.org/pandas-docs/stable/user_guide/indexing.html#returning-a-view-versus-a-copy\n",
      "  df_final_subset.loc[df_final_subset['income'] <45000, 'income_group']= 'Low Income'\n"
     ]
    }
   ],
   "source": [
    "#Create income groups\n",
    "df_final_subset.loc[df_final_subset['income'] <45000, 'income_group']= 'Low Income'"
   ]
  },
  {
   "cell_type": "code",
   "execution_count": 49,
   "id": "1b2c23cb",
   "metadata": {},
   "outputs": [],
   "source": [
    "df_final_subset.loc[(df_final_subset['income']<=130000)&(df_final_subset['income']>=45000), 'income_group']='Middle Income'"
   ]
  },
  {
   "cell_type": "code",
   "execution_count": 50,
   "id": "6cd1cb76",
   "metadata": {},
   "outputs": [],
   "source": [
    "df_final_subset.loc[df_final_subset['income']>130000, 'income_group']='Upper Income'"
   ]
  },
  {
   "cell_type": "code",
   "execution_count": 51,
   "id": "9b36fe25",
   "metadata": {},
   "outputs": [
    {
     "data": {
      "text/plain": [
       "Middle Income    619225\n",
       "Upper Income     206160\n",
       "Low Income       112844\n",
       "Name: income_group, dtype: int64"
      ]
     },
     "execution_count": 51,
     "metadata": {},
     "output_type": "execute_result"
    }
   ],
   "source": [
    "df_final_subset['income_group'].value_counts(dropna=False)"
   ]
  },
  {
   "cell_type": "code",
   "execution_count": 52,
   "id": "610d1408",
   "metadata": {},
   "outputs": [
    {
     "data": {
      "text/plain": [
       "(938229,)"
      ]
     },
     "execution_count": 52,
     "metadata": {},
     "output_type": "execute_result"
    }
   ],
   "source": [
    "df_final_subset['income_group'].shape"
   ]
  },
  {
   "cell_type": "code",
   "execution_count": 53,
   "id": "e2ef94cc",
   "metadata": {},
   "outputs": [
    {
     "name": "stderr",
     "output_type": "stream",
     "text": [
      "C:\\Users\\Alex\\AppData\\Local\\Temp\\ipykernel_9288\\2504598507.py:2: SettingWithCopyWarning: \n",
      "A value is trying to be set on a copy of a slice from a DataFrame.\n",
      "Try using .loc[row_indexer,col_indexer] = value instead\n",
      "\n",
      "See the caveats in the documentation: https://pandas.pydata.org/pandas-docs/stable/user_guide/indexing.html#returning-a-view-versus-a-copy\n",
      "  df_final_subset.loc[df_final_subset['number_of_dependants']>0, 'dependants_group']='Parent'\n"
     ]
    }
   ],
   "source": [
    "#Create dependants group\n",
    "df_final_subset.loc[df_final_subset['number_of_dependants']>0, 'dependants_group']='Parent'"
   ]
  },
  {
   "cell_type": "code",
   "execution_count": 54,
   "id": "1bee94a6",
   "metadata": {},
   "outputs": [],
   "source": [
    "df_final_subset.loc[df_final_subset['number_of_dependants']==0, 'dependants_group']='Not Parent'"
   ]
  },
  {
   "cell_type": "code",
   "execution_count": 55,
   "id": "b93d64e2",
   "metadata": {},
   "outputs": [
    {
     "data": {
      "text/plain": [
       "Parent        702854\n",
       "Not Parent    235375\n",
       "Name: dependants_group, dtype: int64"
      ]
     },
     "execution_count": 55,
     "metadata": {},
     "output_type": "execute_result"
    }
   ],
   "source": [
    "df_final_subset['dependants_group'].value_counts(dropna=False)"
   ]
  },
  {
   "cell_type": "code",
   "execution_count": 56,
   "id": "ec18740c",
   "metadata": {},
   "outputs": [
    {
     "data": {
      "text/plain": [
       "(938229,)"
      ]
     },
     "execution_count": 56,
     "metadata": {},
     "output_type": "execute_result"
    }
   ],
   "source": [
    "df_final_subset['dependants_group'].shape"
   ]
  },
  {
   "cell_type": "markdown",
   "id": "90224838",
   "metadata": {},
   "source": [
    "# Create Customer Profiles"
   ]
  },
  {
   "cell_type": "code",
   "execution_count": 57,
   "id": "1997ea1c",
   "metadata": {},
   "outputs": [
    {
     "name": "stderr",
     "output_type": "stream",
     "text": [
      "C:\\Users\\Alex\\AppData\\Local\\Temp\\ipykernel_9288\\1114197330.py:2: SettingWithCopyWarning: \n",
      "A value is trying to be set on a copy of a slice from a DataFrame.\n",
      "Try using .loc[row_indexer,col_indexer] = value instead\n",
      "\n",
      "See the caveats in the documentation: https://pandas.pydata.org/pandas-docs/stable/user_guide/indexing.html#returning-a-view-versus-a-copy\n",
      "  df_final_subset.loc[(df_final_subset['marital_status'] =='single') & (df_final_subset['number_of_dependants']==0), 'customer_profile']= 'Single Adult Without Children'\n"
     ]
    }
   ],
   "source": [
    "#Single Adult (no dependants)\n",
    "df_final_subset.loc[(df_final_subset['marital_status'] =='single') & (df_final_subset['number_of_dependants']==0), 'customer_profile']= 'Single Adult Without Children'"
   ]
  },
  {
   "cell_type": "code",
   "execution_count": 58,
   "id": "40f283a2",
   "metadata": {},
   "outputs": [],
   "source": [
    "#Married Adult (no dependants)\n",
    "df_final_subset.loc[(df_final_subset['marital_status']!='single')&(df_final_subset['number_of_dependants']==0), 'customer_profile']='Married Adult Without Children'"
   ]
  },
  {
   "cell_type": "code",
   "execution_count": 59,
   "id": "cc608dd2",
   "metadata": {},
   "outputs": [],
   "source": [
    "#Single Parent\n",
    "df_final_subset.loc[(df_final_subset['marital_status'] !='married') & (df_final_subset['number_of_dependants']>0), 'customer_profile']='Single Parent'"
   ]
  },
  {
   "cell_type": "code",
   "execution_count": 60,
   "id": "9d9ab169",
   "metadata": {},
   "outputs": [],
   "source": [
    "#Married Parent\n",
    "df_final_subset.loc[(df_final_subset['marital_status']=='married')&(df_final_subset['number_of_dependants']>0), 'customer_profile']='Married Parent'"
   ]
  },
  {
   "cell_type": "code",
   "execution_count": 61,
   "id": "502b884b",
   "metadata": {},
   "outputs": [
    {
     "data": {
      "text/plain": [
       "Married Parent                    658661\n",
       "Single Adult Without Children     155363\n",
       "Married Adult Without Children     80012\n",
       "Single Parent                      44193\n",
       "Name: customer_profile, dtype: int64"
      ]
     },
     "execution_count": 61,
     "metadata": {},
     "output_type": "execute_result"
    }
   ],
   "source": [
    "df_final_subset['customer_profile'].value_counts(dropna=False)"
   ]
  },
  {
   "cell_type": "code",
   "execution_count": 62,
   "id": "c23ec90d",
   "metadata": {},
   "outputs": [
    {
     "data": {
      "text/plain": [
       "(938229,)"
      ]
     },
     "execution_count": 62,
     "metadata": {},
     "output_type": "execute_result"
    }
   ],
   "source": [
    "df_final_subset['customer_profile'].shape"
   ]
  },
  {
   "cell_type": "code",
   "execution_count": 63,
   "id": "72f56522",
   "metadata": {},
   "outputs": [
    {
     "data": {
      "text/html": [
       "<div>\n",
       "<style scoped>\n",
       "    .dataframe tbody tr th:only-of-type {\n",
       "        vertical-align: middle;\n",
       "    }\n",
       "\n",
       "    .dataframe tbody tr th {\n",
       "        vertical-align: top;\n",
       "    }\n",
       "\n",
       "    .dataframe thead th {\n",
       "        text-align: right;\n",
       "    }\n",
       "</style>\n",
       "<table border=\"1\" class=\"dataframe\">\n",
       "  <thead>\n",
       "    <tr style=\"text-align: right;\">\n",
       "      <th></th>\n",
       "      <th>gender</th>\n",
       "      <th>state</th>\n",
       "      <th>age</th>\n",
       "      <th>number_of_dependants</th>\n",
       "      <th>marital_status</th>\n",
       "      <th>income</th>\n",
       "      <th>order_number</th>\n",
       "      <th>orders_day_of_week</th>\n",
       "      <th>order_time_of_day</th>\n",
       "      <th>department_id</th>\n",
       "      <th>...</th>\n",
       "      <th>busiest_period_of_day</th>\n",
       "      <th>region</th>\n",
       "      <th>loyalty_flag</th>\n",
       "      <th>spending_flag</th>\n",
       "      <th>frequency_flag</th>\n",
       "      <th>department</th>\n",
       "      <th>age_group</th>\n",
       "      <th>income_group</th>\n",
       "      <th>dependants_group</th>\n",
       "      <th>customer_profile</th>\n",
       "    </tr>\n",
       "  </thead>\n",
       "  <tbody>\n",
       "    <tr>\n",
       "      <th>7</th>\n",
       "      <td>Female</td>\n",
       "      <td>Missouri</td>\n",
       "      <td>48</td>\n",
       "      <td>3</td>\n",
       "      <td>married</td>\n",
       "      <td>165665</td>\n",
       "      <td>7</td>\n",
       "      <td>5</td>\n",
       "      <td>15</td>\n",
       "      <td>16</td>\n",
       "      <td>...</td>\n",
       "      <td>Most Orders</td>\n",
       "      <td>Midwest</td>\n",
       "      <td>Regular customer</td>\n",
       "      <td>High spender</td>\n",
       "      <td>Regular customer</td>\n",
       "      <td>dairy eggs</td>\n",
       "      <td>Middle Aged Adult</td>\n",
       "      <td>Upper Income</td>\n",
       "      <td>Parent</td>\n",
       "      <td>Married Parent</td>\n",
       "    </tr>\n",
       "    <tr>\n",
       "      <th>20</th>\n",
       "      <td>Female</td>\n",
       "      <td>Pennsylvania</td>\n",
       "      <td>56</td>\n",
       "      <td>2</td>\n",
       "      <td>married</td>\n",
       "      <td>141705</td>\n",
       "      <td>5</td>\n",
       "      <td>1</td>\n",
       "      <td>9</td>\n",
       "      <td>7</td>\n",
       "      <td>...</td>\n",
       "      <td>Most Orders</td>\n",
       "      <td>Newengland</td>\n",
       "      <td>Regular customer</td>\n",
       "      <td>High spender</td>\n",
       "      <td>Regular customer</td>\n",
       "      <td>beverages</td>\n",
       "      <td>Middle Aged Adult</td>\n",
       "      <td>Upper Income</td>\n",
       "      <td>Parent</td>\n",
       "      <td>Married Parent</td>\n",
       "    </tr>\n",
       "    <tr>\n",
       "      <th>22</th>\n",
       "      <td>Female</td>\n",
       "      <td>Pennsylvania</td>\n",
       "      <td>56</td>\n",
       "      <td>2</td>\n",
       "      <td>married</td>\n",
       "      <td>141705</td>\n",
       "      <td>8</td>\n",
       "      <td>1</td>\n",
       "      <td>15</td>\n",
       "      <td>7</td>\n",
       "      <td>...</td>\n",
       "      <td>Most Orders</td>\n",
       "      <td>Newengland</td>\n",
       "      <td>Regular customer</td>\n",
       "      <td>High spender</td>\n",
       "      <td>Regular customer</td>\n",
       "      <td>beverages</td>\n",
       "      <td>Middle Aged Adult</td>\n",
       "      <td>Upper Income</td>\n",
       "      <td>Parent</td>\n",
       "      <td>Married Parent</td>\n",
       "    </tr>\n",
       "    <tr>\n",
       "      <th>25</th>\n",
       "      <td>Female</td>\n",
       "      <td>Pennsylvania</td>\n",
       "      <td>56</td>\n",
       "      <td>2</td>\n",
       "      <td>married</td>\n",
       "      <td>141705</td>\n",
       "      <td>4</td>\n",
       "      <td>1</td>\n",
       "      <td>17</td>\n",
       "      <td>16</td>\n",
       "      <td>...</td>\n",
       "      <td>Average orders</td>\n",
       "      <td>Newengland</td>\n",
       "      <td>Regular customer</td>\n",
       "      <td>High spender</td>\n",
       "      <td>Regular customer</td>\n",
       "      <td>dairy eggs</td>\n",
       "      <td>Middle Aged Adult</td>\n",
       "      <td>Upper Income</td>\n",
       "      <td>Parent</td>\n",
       "      <td>Married Parent</td>\n",
       "    </tr>\n",
       "    <tr>\n",
       "      <th>27</th>\n",
       "      <td>Female</td>\n",
       "      <td>Pennsylvania</td>\n",
       "      <td>56</td>\n",
       "      <td>2</td>\n",
       "      <td>married</td>\n",
       "      <td>141705</td>\n",
       "      <td>7</td>\n",
       "      <td>5</td>\n",
       "      <td>15</td>\n",
       "      <td>16</td>\n",
       "      <td>...</td>\n",
       "      <td>Most Orders</td>\n",
       "      <td>Newengland</td>\n",
       "      <td>Regular customer</td>\n",
       "      <td>High spender</td>\n",
       "      <td>Regular customer</td>\n",
       "      <td>dairy eggs</td>\n",
       "      <td>Middle Aged Adult</td>\n",
       "      <td>Upper Income</td>\n",
       "      <td>Parent</td>\n",
       "      <td>Married Parent</td>\n",
       "    </tr>\n",
       "  </tbody>\n",
       "</table>\n",
       "<p>5 rows × 23 columns</p>\n",
       "</div>"
      ],
      "text/plain": [
       "    gender         state  age  number_of_dependants marital_status  income  \\\n",
       "7   Female      Missouri   48                     3        married  165665   \n",
       "20  Female  Pennsylvania   56                     2        married  141705   \n",
       "22  Female  Pennsylvania   56                     2        married  141705   \n",
       "25  Female  Pennsylvania   56                     2        married  141705   \n",
       "27  Female  Pennsylvania   56                     2        married  141705   \n",
       "\n",
       "    order_number  orders_day_of_week  order_time_of_day  department_id  ...  \\\n",
       "7              7                   5                 15             16  ...   \n",
       "20             5                   1                  9              7  ...   \n",
       "22             8                   1                 15              7  ...   \n",
       "25             4                   1                 17             16  ...   \n",
       "27             7                   5                 15             16  ...   \n",
       "\n",
       "    busiest_period_of_day      region      loyalty_flag spending_flag  \\\n",
       "7             Most Orders     Midwest  Regular customer  High spender   \n",
       "20            Most Orders  Newengland  Regular customer  High spender   \n",
       "22            Most Orders  Newengland  Regular customer  High spender   \n",
       "25         Average orders  Newengland  Regular customer  High spender   \n",
       "27            Most Orders  Newengland  Regular customer  High spender   \n",
       "\n",
       "      frequency_flag  department          age_group  income_group  \\\n",
       "7   Regular customer  dairy eggs  Middle Aged Adult  Upper Income   \n",
       "20  Regular customer   beverages  Middle Aged Adult  Upper Income   \n",
       "22  Regular customer   beverages  Middle Aged Adult  Upper Income   \n",
       "25  Regular customer  dairy eggs  Middle Aged Adult  Upper Income   \n",
       "27  Regular customer  dairy eggs  Middle Aged Adult  Upper Income   \n",
       "\n",
       "   dependants_group customer_profile  \n",
       "7            Parent   Married Parent  \n",
       "20           Parent   Married Parent  \n",
       "22           Parent   Married Parent  \n",
       "25           Parent   Married Parent  \n",
       "27           Parent   Married Parent  \n",
       "\n",
       "[5 rows x 23 columns]"
      ]
     },
     "execution_count": 63,
     "metadata": {},
     "output_type": "execute_result"
    }
   ],
   "source": [
    "df_final_subset.head()"
   ]
  },
  {
   "cell_type": "markdown",
   "id": "a957d700",
   "metadata": {},
   "source": [
    "# Customer Income Profiles"
   ]
  },
  {
   "cell_type": "code",
   "execution_count": 64,
   "id": "30d4145a",
   "metadata": {},
   "outputs": [
    {
     "name": "stderr",
     "output_type": "stream",
     "text": [
      "C:\\Users\\Alex\\AppData\\Local\\Temp\\ipykernel_9288\\596351784.py:2: SettingWithCopyWarning: \n",
      "A value is trying to be set on a copy of a slice from a DataFrame.\n",
      "Try using .loc[row_indexer,col_indexer] = value instead\n",
      "\n",
      "See the caveats in the documentation: https://pandas.pydata.org/pandas-docs/stable/user_guide/indexing.html#returning-a-view-versus-a-copy\n",
      "  df_final_subset.loc[(df_final_subset['marital_status'] !='married')&(df_final_subset['income_group']=='Low Income')&(df_final_subset['number_of_dependants']>0), 'customer_income_profile']='Low income single parent'\n"
     ]
    }
   ],
   "source": [
    "#Low income single parent\n",
    "df_final_subset.loc[(df_final_subset['marital_status'] !='married')&(df_final_subset['income_group']=='Low Income')&(df_final_subset['number_of_dependants']>0), 'customer_income_profile']='Low income single parent'"
   ]
  },
  {
   "cell_type": "code",
   "execution_count": 65,
   "id": "cac9dd6f",
   "metadata": {},
   "outputs": [],
   "source": [
    "#Middle income single parent\n",
    "df_final_subset.loc[(df_final_subset['marital_status']!='married')&(df_final_subset['income_group']=='Middle Income')&(df_final_subset['number_of_dependants']>0), 'customer_income_profile']='Middle income single parent'"
   ]
  },
  {
   "cell_type": "code",
   "execution_count": 66,
   "id": "46193249",
   "metadata": {},
   "outputs": [],
   "source": [
    "#Upper income single parent\n",
    "df_final_subset.loc[(df_final_subset['marital_status']!='married')&(df_final_subset['income_group']=='Upper Income')&(df_final_subset['number_of_dependants']>0), 'customer_income_profile']='Upper income single parent'"
   ]
  },
  {
   "cell_type": "code",
   "execution_count": 67,
   "id": "0dc74b7c",
   "metadata": {},
   "outputs": [],
   "source": [
    "#Low income married young parent\n",
    "df_final_subset.loc[(df_final_subset['age']<30)&(df_final_subset['marital_status']=='married')&(df_final_subset['income_group']=='Low Income')&(df_final_subset['number_of_dependants']>0), 'customer_income_profile']='Low income married young parent'"
   ]
  },
  {
   "cell_type": "code",
   "execution_count": 68,
   "id": "8babed73",
   "metadata": {},
   "outputs": [],
   "source": [
    "#Middle income married yount parent\n",
    "df_final_subset.loc[(df_final_subset['age']<30)&(df_final_subset['marital_status']=='married')&(df_final_subset['income_group']=='Middle Income')&(df_final_subset['number_of_dependants']>0), 'customer_income_profile']='Middle income married young parent'"
   ]
  },
  {
   "cell_type": "code",
   "execution_count": 69,
   "id": "9c924354",
   "metadata": {},
   "outputs": [],
   "source": [
    "#Upper income married young parent\n",
    "df_final_subset.loc[(df_final_subset['age']<30)&(df_final_subset['marital_status']=='married')&(df_final_subset['income_group']=='Upper Income')&(df_final_subset['number_of_dependants']>0), 'customer_income_profile']='Upper income married young parent'"
   ]
  },
  {
   "cell_type": "code",
   "execution_count": 70,
   "id": "c6737cb1",
   "metadata": {},
   "outputs": [],
   "source": [
    "#Low Income Married Older Parent\n",
    "df_final_subset.loc[(df_final_subset['age']>=30) &(df_final_subset['marital_status']=='married')&(df_final_subset['income_group']=='Low Income')&(df_final_subset['number_of_dependants']>0), 'customer_income_profile']='Low income married older parent'"
   ]
  },
  {
   "cell_type": "code",
   "execution_count": 71,
   "id": "0febaebb",
   "metadata": {},
   "outputs": [],
   "source": [
    "#Middle Income Married Older Parent\n",
    "df_final_subset.loc[(df_final_subset['age']>=30) &(df_final_subset['marital_status']=='married')&(df_final_subset['income_group']=='Middle Income')&(df_final_subset['number_of_dependants']>0), 'customer_income_profile']='Middle income married older parent'"
   ]
  },
  {
   "cell_type": "code",
   "execution_count": 72,
   "id": "6f22e09f",
   "metadata": {},
   "outputs": [],
   "source": [
    "#Upper Income Married Older Parent\n",
    "df_final_subset.loc[(df_final_subset['age']>=30) &(df_final_subset['marital_status']=='married')&(df_final_subset['income_group']=='Upper Income')&(df_final_subset['number_of_dependants']>0), 'customer_income_profile']='Upper income married older parent'"
   ]
  },
  {
   "cell_type": "code",
   "execution_count": 73,
   "id": "597bf629",
   "metadata": {},
   "outputs": [],
   "source": [
    "#Low Income Married Without Children\n",
    "df_final_subset.loc[(df_final_subset['marital_status']!='single') & (df_final_subset['income_group']=='Low Income') & (df_final_subset['number_of_dependants']==0), 'customer_income_profile']='Low income married without children'"
   ]
  },
  {
   "cell_type": "code",
   "execution_count": 74,
   "id": "e8c23ca1",
   "metadata": {},
   "outputs": [],
   "source": [
    "#Middle Income Married Without Children \n",
    "df_final_subset.loc[(df_final_subset['marital_status']!='single')&(df_final_subset['income_group']=='Middle Income')&(df_final_subset['number_of_dependants']==0), 'customer_income_profile']='Middle income married without children'"
   ]
  },
  {
   "cell_type": "code",
   "execution_count": 75,
   "id": "c750dc44",
   "metadata": {},
   "outputs": [],
   "source": [
    "#Upper Income Married Without Children\n",
    "df_final_subset.loc[(df_final_subset['marital_status']!='single')&(df_final_subset['income_group']=='Upper Income')&(df_final_subset['number_of_dependants']==0), 'customer_income_profile']='Upper income married without children'"
   ]
  },
  {
   "cell_type": "code",
   "execution_count": 76,
   "id": "67a7b1f4",
   "metadata": {},
   "outputs": [],
   "source": [
    "#Low Income Single Without Children\n",
    "df_final_subset.loc[(df_final_subset['marital_status']=='single')&(df_final_subset['income_group']=='Low Income') & (df_final_subset['number_of_dependants']==0), 'customer_income_profile']='Low income single without children'"
   ]
  },
  {
   "cell_type": "code",
   "execution_count": 77,
   "id": "6ccf2bf5",
   "metadata": {},
   "outputs": [],
   "source": [
    "#Middle Income Single Without Children\n",
    "df_final_subset.loc[(df_final_subset['marital_status']=='single')&(df_final_subset['income_group']=='Middle Income') & (df_final_subset['number_of_dependants']==0), 'customer_income_profile']='Middle income single without children'"
   ]
  },
  {
   "cell_type": "code",
   "execution_count": 78,
   "id": "c480ff58",
   "metadata": {},
   "outputs": [],
   "source": [
    "#Upper Income Single Without Children\n",
    "df_final_subset.loc[(df_final_subset['marital_status']=='single')&(df_final_subset['income_group']=='Upper Income') & (df_final_subset['number_of_dependants']==0), 'customer_income_profile']='Upper income single without children'"
   ]
  },
  {
   "cell_type": "code",
   "execution_count": 79,
   "id": "eec01be6",
   "metadata": {
    "scrolled": true
   },
   "outputs": [
    {
     "data": {
      "text/plain": [
       "Middle income married older parent        356053\n",
       "Upper income married older parent         153107\n",
       "Middle income single without children     109313\n",
       "Middle income married young parent         71962\n",
       "Low income married older parent            62478\n",
       "Middle income married without children     45300\n",
       "Middle income single parent                36597\n",
       "Upper income married without children      27266\n",
       "Upper income single without children       24901\n",
       "Low income single without children         21149\n",
       "Low income married young parent            14465\n",
       "Low income married without children         7446\n",
       "Low income single parent                    7306\n",
       "Upper income married young parent            596\n",
       "Upper income single parent                   290\n",
       "Name: customer_income_profile, dtype: int64"
      ]
     },
     "execution_count": 79,
     "metadata": {},
     "output_type": "execute_result"
    }
   ],
   "source": [
    "df_final_subset['customer_income_profile'].value_counts(dropna=False)"
   ]
  },
  {
   "cell_type": "code",
   "execution_count": 80,
   "id": "f80a1fb4",
   "metadata": {},
   "outputs": [
    {
     "data": {
      "text/plain": [
       "(938229,)"
      ]
     },
     "execution_count": 80,
     "metadata": {},
     "output_type": "execute_result"
    }
   ],
   "source": [
    "df_final_subset['customer_income_profile'].shape"
   ]
  },
  {
   "cell_type": "markdown",
   "id": "32e9f1b4",
   "metadata": {},
   "source": [
    "# Assign Hourly Groups"
   ]
  },
  {
   "cell_type": "code",
   "execution_count": 81,
   "id": "6f8e2a17",
   "metadata": {},
   "outputs": [
    {
     "ename": "SyntaxError",
     "evalue": "invalid syntax. Perhaps you forgot a comma? (1637456856.py, line 2)",
     "output_type": "error",
     "traceback": [
      "\u001b[1;36m  Cell \u001b[1;32mIn[81], line 2\u001b[1;36m\u001b[0m\n\u001b[1;33m    df_final_subset.loc[(df_final_subse\u001b[0m\n\u001b[1;37m                         ^\u001b[0m\n\u001b[1;31mSyntaxError\u001b[0m\u001b[1;31m:\u001b[0m invalid syntax. Perhaps you forgot a comma?\n"
     ]
    }
   ],
   "source": [
    "#Before 8am\n",
    "df_final_subset.loc[(df_final_subse\n",
    "                     t['order_time_of_day']>=0)&(df_final_subset['order_time_of_day']<8), 'time_period']='Before 8am'"
   ]
  },
  {
   "cell_type": "code",
   "execution_count": null,
   "id": "d8356419",
   "metadata": {},
   "outputs": [],
   "source": [
    "#8am-5pm\n",
    "df_final_subset.loc[(df_final_subset['order_time_of_day']>=8)&(df_final_subset['order_time_of_day']<17), 'time_period']='Between 8am to 5pm'"
   ]
  },
  {
   "cell_type": "code",
   "execution_count": null,
   "id": "8816962b",
   "metadata": {},
   "outputs": [],
   "source": [
    "#After 5pm\n",
    "df_final_subset.loc[(df_final_subset['order_time_of_day']>18), 'time_period']='After 5pm'"
   ]
  },
  {
   "cell_type": "code",
   "execution_count": null,
   "id": "4c75d285",
   "metadata": {},
   "outputs": [],
   "source": [
    "df_final_subset['time_period'].value_counts(dropna=False)"
   ]
  },
  {
   "cell_type": "code",
   "execution_count": null,
   "id": "f4088088",
   "metadata": {},
   "outputs": [],
   "source": [
    "df_final_subset['time_period'].shape"
   ]
  },
  {
   "cell_type": "code",
   "execution_count": null,
   "id": "c8a8e89f",
   "metadata": {},
   "outputs": [],
   "source": [
    "df_final_subset.head()"
   ]
  },
  {
   "cell_type": "markdown",
   "id": "ccd25b1e",
   "metadata": {},
   "source": [
    "# Assign Day Values"
   ]
  },
  {
   "cell_type": "code",
   "execution_count": null,
   "id": "1052ebb0",
   "metadata": {},
   "outputs": [],
   "source": [
    "df_final_subset.loc[df_final_subset['orders_day_of_week']==0, 'day']='Saturday'"
   ]
  },
  {
   "cell_type": "code",
   "execution_count": null,
   "id": "4bb0eacb",
   "metadata": {},
   "outputs": [],
   "source": [
    "df_final_subset.loc[df_final_subset['orders_day_of_week']==1, 'day']='Sunday'"
   ]
  },
  {
   "cell_type": "code",
   "execution_count": null,
   "id": "2c6999eb",
   "metadata": {},
   "outputs": [],
   "source": [
    "df_final_subset.loc[df_final_subset['orders_day_of_week']==2, 'day']='Monday'"
   ]
  },
  {
   "cell_type": "code",
   "execution_count": null,
   "id": "d5b78384",
   "metadata": {},
   "outputs": [],
   "source": [
    "df_final_subset.loc[df_final_subset['orders_day_of_week']==3, 'day']='Tuesday'"
   ]
  },
  {
   "cell_type": "code",
   "execution_count": null,
   "id": "e48d6eab",
   "metadata": {},
   "outputs": [],
   "source": [
    "df_final_subset.loc[df_final_subset['orders_day_of_week']==4, 'day']='Wednesday'"
   ]
  },
  {
   "cell_type": "code",
   "execution_count": null,
   "id": "a75970e1",
   "metadata": {},
   "outputs": [],
   "source": [
    "df_final_subset.loc[df_final_subset['orders_day_of_week']==5, 'day']='Thursday'"
   ]
  },
  {
   "cell_type": "code",
   "execution_count": null,
   "id": "bbf740f9",
   "metadata": {},
   "outputs": [],
   "source": [
    "df_final_subset.loc[df_final_subset['orders_day_of_week']==6, 'day']='Friday'"
   ]
  },
  {
   "cell_type": "code",
   "execution_count": null,
   "id": "2851b9c0",
   "metadata": {},
   "outputs": [],
   "source": [
    "df_final_subset['day'].value_counts(dropna=False)"
   ]
  },
  {
   "cell_type": "code",
   "execution_count": null,
   "id": "5be682ec",
   "metadata": {},
   "outputs": [],
   "source": [
    "df_final_subset['day'].shape"
   ]
  },
  {
   "cell_type": "code",
   "execution_count": null,
   "id": "012825f9",
   "metadata": {},
   "outputs": [],
   "source": [
    "#Export Data\n",
    "df_final_subset.to_pickle(os.path.join(path, '02 Data', 'Prepared Data', 'final_subset_sample.pkl'))"
   ]
  },
  {
   "cell_type": "code",
   "execution_count": null,
   "id": "e1ee4402",
   "metadata": {},
   "outputs": [],
   "source": []
  }
 ],
 "metadata": {
  "kernelspec": {
   "display_name": "Python 3 (ipykernel)",
   "language": "python",
   "name": "python3"
  },
  "language_info": {
   "codemirror_mode": {
    "name": "ipython",
    "version": 3
   },
   "file_extension": ".py",
   "mimetype": "text/x-python",
   "name": "python",
   "nbconvert_exporter": "python",
   "pygments_lexer": "ipython3",
   "version": "3.11.4"
  }
 },
 "nbformat": 4,
 "nbformat_minor": 5
}
