{
 "cells": [
  {
   "cell_type": "code",
   "execution_count": 1,
   "id": "691a7abf",
   "metadata": {},
   "outputs": [],
   "source": [
    "#Import libraries\n",
    "import pandas as pd\n",
    "import numpy as np\n",
    "import os\n",
    "import matplotlib.pyplot as plt\n",
    "import seaborn as sns\n",
    "import scipy\n",
    "import gc"
   ]
  },
  {
   "cell_type": "code",
   "execution_count": 2,
   "id": "647dfd6f",
   "metadata": {},
   "outputs": [],
   "source": [
    "#Import dataframe\n",
    "path=r'C:\\Users\\Alex\\Instacart Basket Analysis'"
   ]
  },
  {
   "cell_type": "code",
   "execution_count": 3,
   "id": "a204e548",
   "metadata": {},
   "outputs": [],
   "source": [
    "ords_prods_cust_merge=pd.read_pickle(os.path.join(path, '02 Data', 'Prepared Data', 'Instacart_Basket_Merged.pkl'))"
   ]
  },
  {
   "cell_type": "code",
   "execution_count": 4,
   "id": "ebb5ab86",
   "metadata": {},
   "outputs": [
    {
     "data": {
      "text/html": [
       "<div>\n",
       "<style scoped>\n",
       "    .dataframe tbody tr th:only-of-type {\n",
       "        vertical-align: middle;\n",
       "    }\n",
       "\n",
       "    .dataframe tbody tr th {\n",
       "        vertical-align: top;\n",
       "    }\n",
       "\n",
       "    .dataframe thead th {\n",
       "        text-align: right;\n",
       "    }\n",
       "</style>\n",
       "<table border=\"1\" class=\"dataframe\">\n",
       "  <thead>\n",
       "    <tr style=\"text-align: right;\">\n",
       "      <th></th>\n",
       "      <th>user_id</th>\n",
       "      <th>gender</th>\n",
       "      <th>state</th>\n",
       "      <th>age</th>\n",
       "      <th>date_joined</th>\n",
       "      <th>number_of_dependants</th>\n",
       "      <th>marital_status</th>\n",
       "      <th>income</th>\n",
       "      <th>order_id</th>\n",
       "      <th>eval_set</th>\n",
       "      <th>...</th>\n",
       "      <th>Busiest_day</th>\n",
       "      <th>Busiest_days</th>\n",
       "      <th>busiest_period_of_day</th>\n",
       "      <th>max_order</th>\n",
       "      <th>loyalty_flag</th>\n",
       "      <th>avg_price</th>\n",
       "      <th>spending_flag</th>\n",
       "      <th>median_frequency</th>\n",
       "      <th>frequency_flag</th>\n",
       "      <th>_merge</th>\n",
       "    </tr>\n",
       "  </thead>\n",
       "  <tbody>\n",
       "    <tr>\n",
       "      <th>0</th>\n",
       "      <td>26711</td>\n",
       "      <td>Female</td>\n",
       "      <td>Missouri</td>\n",
       "      <td>48</td>\n",
       "      <td>1/1/2017</td>\n",
       "      <td>3</td>\n",
       "      <td>married</td>\n",
       "      <td>165665</td>\n",
       "      <td>2543867</td>\n",
       "      <td>prior</td>\n",
       "      <td>...</td>\n",
       "      <td>Regularly busy</td>\n",
       "      <td>Busiest days</td>\n",
       "      <td>Most Orders</td>\n",
       "      <td>18</td>\n",
       "      <td>Regular customer</td>\n",
       "      <td>11.74</td>\n",
       "      <td>High spender</td>\n",
       "      <td>12.5</td>\n",
       "      <td>Regular customer</td>\n",
       "      <td>both</td>\n",
       "    </tr>\n",
       "    <tr>\n",
       "      <th>1</th>\n",
       "      <td>26711</td>\n",
       "      <td>Female</td>\n",
       "      <td>Missouri</td>\n",
       "      <td>48</td>\n",
       "      <td>1/1/2017</td>\n",
       "      <td>3</td>\n",
       "      <td>married</td>\n",
       "      <td>165665</td>\n",
       "      <td>1285508</td>\n",
       "      <td>prior</td>\n",
       "      <td>...</td>\n",
       "      <td>Regularly busy</td>\n",
       "      <td>Regularly busy</td>\n",
       "      <td>Most Orders</td>\n",
       "      <td>18</td>\n",
       "      <td>Regular customer</td>\n",
       "      <td>11.74</td>\n",
       "      <td>High spender</td>\n",
       "      <td>12.5</td>\n",
       "      <td>Regular customer</td>\n",
       "      <td>both</td>\n",
       "    </tr>\n",
       "    <tr>\n",
       "      <th>2</th>\n",
       "      <td>26711</td>\n",
       "      <td>Female</td>\n",
       "      <td>Missouri</td>\n",
       "      <td>48</td>\n",
       "      <td>1/1/2017</td>\n",
       "      <td>3</td>\n",
       "      <td>married</td>\n",
       "      <td>165665</td>\n",
       "      <td>2578584</td>\n",
       "      <td>prior</td>\n",
       "      <td>...</td>\n",
       "      <td>Regularly busy</td>\n",
       "      <td>Busiest days</td>\n",
       "      <td>Most Orders</td>\n",
       "      <td>18</td>\n",
       "      <td>Regular customer</td>\n",
       "      <td>11.74</td>\n",
       "      <td>High spender</td>\n",
       "      <td>12.5</td>\n",
       "      <td>Regular customer</td>\n",
       "      <td>both</td>\n",
       "    </tr>\n",
       "    <tr>\n",
       "      <th>3</th>\n",
       "      <td>26711</td>\n",
       "      <td>Female</td>\n",
       "      <td>Missouri</td>\n",
       "      <td>48</td>\n",
       "      <td>1/1/2017</td>\n",
       "      <td>3</td>\n",
       "      <td>married</td>\n",
       "      <td>165665</td>\n",
       "      <td>423547</td>\n",
       "      <td>prior</td>\n",
       "      <td>...</td>\n",
       "      <td>Regularly busy</td>\n",
       "      <td>Regularly busy</td>\n",
       "      <td>Most Orders</td>\n",
       "      <td>18</td>\n",
       "      <td>Regular customer</td>\n",
       "      <td>11.74</td>\n",
       "      <td>High spender</td>\n",
       "      <td>12.5</td>\n",
       "      <td>Regular customer</td>\n",
       "      <td>both</td>\n",
       "    </tr>\n",
       "    <tr>\n",
       "      <th>4</th>\n",
       "      <td>26711</td>\n",
       "      <td>Female</td>\n",
       "      <td>Missouri</td>\n",
       "      <td>48</td>\n",
       "      <td>1/1/2017</td>\n",
       "      <td>3</td>\n",
       "      <td>married</td>\n",
       "      <td>165665</td>\n",
       "      <td>2524893</td>\n",
       "      <td>prior</td>\n",
       "      <td>...</td>\n",
       "      <td>Regularly busy</td>\n",
       "      <td>Least busy days</td>\n",
       "      <td>Most Orders</td>\n",
       "      <td>18</td>\n",
       "      <td>Regular customer</td>\n",
       "      <td>11.74</td>\n",
       "      <td>High spender</td>\n",
       "      <td>12.5</td>\n",
       "      <td>Regular customer</td>\n",
       "      <td>both</td>\n",
       "    </tr>\n",
       "  </tbody>\n",
       "</table>\n",
       "<p>5 rows × 32 columns</p>\n",
       "</div>"
      ],
      "text/plain": [
       "   user_id  gender     state  age date_joined  number_of_dependants  \\\n",
       "0    26711  Female  Missouri   48    1/1/2017                     3   \n",
       "1    26711  Female  Missouri   48    1/1/2017                     3   \n",
       "2    26711  Female  Missouri   48    1/1/2017                     3   \n",
       "3    26711  Female  Missouri   48    1/1/2017                     3   \n",
       "4    26711  Female  Missouri   48    1/1/2017                     3   \n",
       "\n",
       "  marital_status  income  order_id eval_set  ...     Busiest_day  \\\n",
       "0        married  165665   2543867    prior  ...  Regularly busy   \n",
       "1        married  165665   1285508    prior  ...  Regularly busy   \n",
       "2        married  165665   2578584    prior  ...  Regularly busy   \n",
       "3        married  165665    423547    prior  ...  Regularly busy   \n",
       "4        married  165665   2524893    prior  ...  Regularly busy   \n",
       "\n",
       "      Busiest_days  busiest_period_of_day  max_order      loyalty_flag  \\\n",
       "0     Busiest days            Most Orders         18  Regular customer   \n",
       "1   Regularly busy            Most Orders         18  Regular customer   \n",
       "2     Busiest days            Most Orders         18  Regular customer   \n",
       "3   Regularly busy            Most Orders         18  Regular customer   \n",
       "4  Least busy days            Most Orders         18  Regular customer   \n",
       "\n",
       "   avg_price  spending_flag median_frequency    frequency_flag  _merge  \n",
       "0      11.74   High spender             12.5  Regular customer    both  \n",
       "1      11.74   High spender             12.5  Regular customer    both  \n",
       "2      11.74   High spender             12.5  Regular customer    both  \n",
       "3      11.74   High spender             12.5  Regular customer    both  \n",
       "4      11.74   High spender             12.5  Regular customer    both  \n",
       "\n",
       "[5 rows x 32 columns]"
      ]
     },
     "execution_count": 4,
     "metadata": {},
     "output_type": "execute_result"
    }
   ],
   "source": [
    "ords_prods_cust_merge.head()"
   ]
  },
  {
   "cell_type": "markdown",
   "id": "95c4b8eb",
   "metadata": {},
   "source": [
    "# 3. Create a regional segmentation of the data. Create a \"Region column based on the \"state\" column for your customers data set."
   ]
  },
  {
   "cell_type": "code",
   "execution_count": 5,
   "id": "d602246f",
   "metadata": {},
   "outputs": [],
   "source": [
    "#Assign state values to region variables\n",
    "Newengland= ['Maine', 'New Hampshire', 'Vermont', 'Massachusetts', 'Rhode Island', 'Connecticut', 'New York', 'Pennsylvania', 'New Jersey']\n",
    "Midwest=['Wisconsin', 'Michigan', 'Illinois', 'Indiana', 'Ohio', 'North Dakota', 'South Dakota', 'Nebraska', 'Kansas', 'Minnesota', 'Iowa', 'Missouri']\n",
    "South=['Delaware', 'Maryland', 'District of Columbia', 'Virginia', 'West Virginia', 'North Carolina', 'South Carolina', 'Georgia', 'Florida', 'Kentucky', 'Tennessee', 'Mississippi', 'Alabama', 'Oklahoma', 'Texas', 'Arkansas', 'Louisiana']\n",
    "West=['Idaho', 'Montana', 'Wyoming', 'Nevada', 'Utah', 'Colorado', 'Arizona', 'New Mexico', 'Alaska', 'Washington', 'Oregon', 'California', 'Hawaii']"
   ]
  },
  {
   "cell_type": "code",
   "execution_count": 6,
   "id": "e5375428",
   "metadata": {},
   "outputs": [],
   "source": [
    "ords_prods_cust_merge.loc[ords_prods_cust_merge['state'].isin(Newengland),'region']='Newengland'"
   ]
  },
  {
   "cell_type": "code",
   "execution_count": 7,
   "id": "15e078d3",
   "metadata": {},
   "outputs": [],
   "source": [
    "ords_prods_cust_merge.loc[ords_prods_cust_merge['state'].isin(Midwest),'region']='Midwest'"
   ]
  },
  {
   "cell_type": "code",
   "execution_count": 8,
   "id": "4bc635d4",
   "metadata": {},
   "outputs": [],
   "source": [
    "ords_prods_cust_merge.loc[ords_prods_cust_merge['state'].isin(South),'region']='South'"
   ]
  },
  {
   "cell_type": "code",
   "execution_count": 9,
   "id": "bd10a0b2",
   "metadata": {},
   "outputs": [],
   "source": [
    "ords_prods_cust_merge.loc[ords_prods_cust_merge['state'].isin(West),'region']='West'"
   ]
  },
  {
   "cell_type": "code",
   "execution_count": 10,
   "id": "2d9d6cde",
   "metadata": {},
   "outputs": [
    {
     "data": {
      "text/plain": [
       "South         1066042\n",
       "West           815870\n",
       "Midwest        742365\n",
       "Newengland     560430\n",
       "Name: region, dtype: int64"
      ]
     },
     "execution_count": 10,
     "metadata": {},
     "output_type": "execute_result"
    }
   ],
   "source": [
    "ords_prods_cust_merge['region'].value_counts(dropna=False)"
   ]
  },
  {
   "cell_type": "code",
   "execution_count": 11,
   "id": "bec948c4",
   "metadata": {},
   "outputs": [],
   "source": [
    "#Cross region variable with spending flag\n",
    "crosstab=pd.crosstab(ords_prods_cust_merge['region'], ords_prods_cust_merge['spending_flag'], dropna=False)"
   ]
  },
  {
   "cell_type": "code",
   "execution_count": 12,
   "id": "411ce36f",
   "metadata": {},
   "outputs": [
    {
     "data": {
      "text/html": [
       "<div>\n",
       "<style scoped>\n",
       "    .dataframe tbody tr th:only-of-type {\n",
       "        vertical-align: middle;\n",
       "    }\n",
       "\n",
       "    .dataframe tbody tr th {\n",
       "        vertical-align: top;\n",
       "    }\n",
       "\n",
       "    .dataframe thead th {\n",
       "        text-align: right;\n",
       "    }\n",
       "</style>\n",
       "<table border=\"1\" class=\"dataframe\">\n",
       "  <thead>\n",
       "    <tr style=\"text-align: right;\">\n",
       "      <th>spending_flag</th>\n",
       "      <th>High spender</th>\n",
       "      <th>Low spender</th>\n",
       "    </tr>\n",
       "    <tr>\n",
       "      <th>region</th>\n",
       "      <th></th>\n",
       "      <th></th>\n",
       "    </tr>\n",
       "  </thead>\n",
       "  <tbody>\n",
       "    <tr>\n",
       "      <th>Midwest</th>\n",
       "      <td>106915</td>\n",
       "      <td>635450</td>\n",
       "    </tr>\n",
       "    <tr>\n",
       "      <th>Newengland</th>\n",
       "      <td>80513</td>\n",
       "      <td>479917</td>\n",
       "    </tr>\n",
       "    <tr>\n",
       "      <th>South</th>\n",
       "      <td>158824</td>\n",
       "      <td>907218</td>\n",
       "    </tr>\n",
       "    <tr>\n",
       "      <th>West</th>\n",
       "      <td>120813</td>\n",
       "      <td>695057</td>\n",
       "    </tr>\n",
       "  </tbody>\n",
       "</table>\n",
       "</div>"
      ],
      "text/plain": [
       "spending_flag  High spender  Low spender\n",
       "region                                  \n",
       "Midwest              106915       635450\n",
       "Newengland            80513       479917\n",
       "South                158824       907218\n",
       "West                 120813       695057"
      ]
     },
     "execution_count": 12,
     "metadata": {},
     "output_type": "execute_result"
    }
   ],
   "source": [
    "crosstab"
   ]
  },
  {
   "cell_type": "markdown",
   "id": "444f05ec",
   "metadata": {},
   "source": [
    "the South has the highest spending rate both in the low and the high spender columns, while newengland has the least. "
   ]
  },
  {
   "cell_type": "code",
   "execution_count": 13,
   "id": "bca82b7e",
   "metadata": {},
   "outputs": [],
   "source": [
    "ords_prods_cust_merge.to_pickle(os.path.join(path, '02 Data', 'Prepared Data', 'regions.pkl'))"
   ]
  },
  {
   "cell_type": "markdown",
   "id": "570fb9af",
   "metadata": {},
   "source": [
    "system continues stopping due to memeory issues-- aiming to split up the segments"
   ]
  },
  {
   "cell_type": "code",
   "execution_count": 14,
   "id": "bc499690",
   "metadata": {},
   "outputs": [
    {
     "data": {
      "text/plain": [
       "user_id                      int16\n",
       "gender                      object\n",
       "state                       object\n",
       "age                           int8\n",
       "date_joined                 object\n",
       "number_of_dependants         int32\n",
       "marital_status              object\n",
       "income                       int32\n",
       "order_id                     int32\n",
       "eval_set                    object\n",
       "order_number                  int8\n",
       "orders_day_of_week            int8\n",
       "order_time_of_day             int8\n",
       "days_since_prior_order     float16\n",
       "product_id                   int16\n",
       "add_to_cart_order            int16\n",
       "reordered                    int16\n",
       "product_name                object\n",
       "aisle_id                     int16\n",
       "department_id                int16\n",
       "prices                     float32\n",
       "price_range_loc             object\n",
       "Busiest_day                 object\n",
       "Busiest_days                object\n",
       "busiest_period_of_day       object\n",
       "max_order                     int8\n",
       "loyalty_flag                object\n",
       "avg_price                  float32\n",
       "spending_flag               object\n",
       "median_frequency           float16\n",
       "frequency_flag              object\n",
       "_merge                    category\n",
       "region                      object\n",
       "dtype: object"
      ]
     },
     "execution_count": 14,
     "metadata": {},
     "output_type": "execute_result"
    }
   ],
   "source": [
    "ords_prods_cust_merge.dtypes"
   ]
  },
  {
   "cell_type": "markdown",
   "id": "2449ce66",
   "metadata": {},
   "source": [
    "# 4. Create an exclusion flag for low activity customers (those with less than 5 orders) and exclude them from the data. "
   ]
  },
  {
   "cell_type": "code",
   "execution_count": 15,
   "id": "99dbedbf",
   "metadata": {},
   "outputs": [],
   "source": [
    "#Assign low activity customer\n",
    "ords_prods_cust_merge.loc[ords_prods_cust_merge['max_order']<5, 'activity_flag']='low activity customer'"
   ]
  },
  {
   "cell_type": "code",
   "execution_count": 16,
   "id": "f6cab2ad",
   "metadata": {},
   "outputs": [],
   "source": [
    "#Assign high activity customer\n",
    "ords_prods_cust_merge.loc[ords_prods_cust_merge['max_order']>= 5, 'activity_flag']='high activity customer'"
   ]
  },
  {
   "cell_type": "code",
   "execution_count": 17,
   "id": "eb152048",
   "metadata": {},
   "outputs": [
    {
     "data": {
      "text/plain": [
       "high activity customer    3129407\n",
       "low activity customer       55300\n",
       "Name: activity_flag, dtype: int64"
      ]
     },
     "execution_count": 17,
     "metadata": {},
     "output_type": "execute_result"
    }
   ],
   "source": [
    "#Print frequency of the activity flags\n",
    "ords_prods_cust_merge['activity_flag'].value_counts(dropna=False)"
   ]
  },
  {
   "cell_type": "code",
   "execution_count": 18,
   "id": "2d635fcf",
   "metadata": {},
   "outputs": [
    {
     "name": "stdout",
     "output_type": "stream",
     "text": [
      "<class 'pandas.core.frame.DataFrame'>\n",
      "Int64Index: 3184707 entries, 0 to 3184706\n",
      "Data columns (total 34 columns):\n",
      " #   Column                  Dtype   \n",
      "---  ------                  -----   \n",
      " 0   user_id                 int16   \n",
      " 1   gender                  object  \n",
      " 2   state                   object  \n",
      " 3   age                     int8    \n",
      " 4   date_joined             object  \n",
      " 5   number_of_dependants    int32   \n",
      " 6   marital_status          object  \n",
      " 7   income                  int32   \n",
      " 8   order_id                int32   \n",
      " 9   eval_set                object  \n",
      " 10  order_number            int8    \n",
      " 11  orders_day_of_week      int8    \n",
      " 12  order_time_of_day       int8    \n",
      " 13  days_since_prior_order  float16 \n",
      " 14  product_id              int16   \n",
      " 15  add_to_cart_order       int16   \n",
      " 16  reordered               int16   \n",
      " 17  product_name            object  \n",
      " 18  aisle_id                int16   \n",
      " 19  department_id           int16   \n",
      " 20  prices                  float32 \n",
      " 21  price_range_loc         object  \n",
      " 22  Busiest_day             object  \n",
      " 23  Busiest_days            object  \n",
      " 24  busiest_period_of_day   object  \n",
      " 25  max_order               int8    \n",
      " 26  loyalty_flag            object  \n",
      " 27  avg_price               float32 \n",
      " 28  spending_flag           object  \n",
      " 29  median_frequency        float16 \n",
      " 30  frequency_flag          object  \n",
      " 31  _merge                  category\n",
      " 32  region                  object  \n",
      " 33  activity_flag           object  \n",
      "dtypes: category(1), float16(2), float32(2), int16(6), int32(3), int8(5), object(15)\n",
      "memory usage: 516.3+ MB\n"
     ]
    }
   ],
   "source": [
    "ords_prods_cust_merge.info()"
   ]
  },
  {
   "cell_type": "code",
   "execution_count": 19,
   "id": "3815cd4a",
   "metadata": {},
   "outputs": [],
   "source": [
    "ords_prods_cust_merge.to_pickle(os.path.join(path, '02 Data', 'Prepared Data', 'activity flags.pkl'))"
   ]
  },
  {
   "cell_type": "code",
   "execution_count": 20,
   "id": "10cf671c",
   "metadata": {},
   "outputs": [],
   "source": [
    "df_low_activity_customers=ords_prods_cust_merge[ords_prods_cust_merge['activity_flag']=='low activity customer']"
   ]
  },
  {
   "cell_type": "code",
   "execution_count": 21,
   "id": "6e21d512",
   "metadata": {},
   "outputs": [],
   "source": [
    "df_low_activity_customers.to_pickle(os.path.join(path, '02 Data', 'Prepared Data', 'LOW_ACTIVITY_CUSTOMER.pkl'))"
   ]
  },
  {
   "cell_type": "code",
   "execution_count": 23,
   "id": "491fb517",
   "metadata": {},
   "outputs": [],
   "source": [
    "df_high_activity_customers=ords_prods_cust_merge[ords_prods_cust_merge['activity_flag']=='high activity customer']"
   ]
  },
  {
   "cell_type": "code",
   "execution_count": 24,
   "id": "717c4b04",
   "metadata": {},
   "outputs": [],
   "source": [
    "df_high_activity_customers.to_pickle(os.path.join(path, '02 Data', 'Prepared Data', 'HIGH_ACTIVITY_CUSTOMER.pkl'))"
   ]
  },
  {
   "cell_type": "code",
   "execution_count": null,
   "id": "ceaa0ad5",
   "metadata": {},
   "outputs": [],
   "source": []
  }
 ],
 "metadata": {
  "kernelspec": {
   "display_name": "Python 3 (ipykernel)",
   "language": "python",
   "name": "python3"
  },
  "language_info": {
   "codemirror_mode": {
    "name": "ipython",
    "version": 3
   },
   "file_extension": ".py",
   "mimetype": "text/x-python",
   "name": "python",
   "nbconvert_exporter": "python",
   "pygments_lexer": "ipython3",
   "version": "3.11.3"
  }
 },
 "nbformat": 4,
 "nbformat_minor": 5
}
