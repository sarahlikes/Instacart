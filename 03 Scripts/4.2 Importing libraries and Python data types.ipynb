{
 "cells": [
  {
   "cell_type": "markdown",
   "id": "47de82ce",
   "metadata": {},
   "source": [
    "# 01. Importing libraries"
   ]
  },
  {
   "cell_type": "code",
   "execution_count": 1,
   "id": "60a1a7e7",
   "metadata": {},
   "outputs": [],
   "source": [
    "# Import libraries\n",
    "import pandas as pd\n",
    "import numpy as np\n",
    "import os"
   ]
  },
  {
   "cell_type": "code",
   "execution_count": null,
   "id": "ac18436a",
   "metadata": {},
   "outputs": [],
   "source": [
    "Importing pandas, numpy, os"
   ]
  },
  {
   "cell_type": "markdown",
   "id": "f4e34265",
   "metadata": {},
   "source": [
    "# 02. Python data types"
   ]
  },
  {
   "cell_type": "code",
   "execution_count": 33,
   "id": "a8510263",
   "metadata": {},
   "outputs": [],
   "source": [
    "a=1"
   ]
  },
  {
   "cell_type": "code",
   "execution_count": 34,
   "id": "34f514a5",
   "metadata": {},
   "outputs": [],
   "source": [
    "b=2"
   ]
  },
  {
   "cell_type": "code",
   "execution_count": 35,
   "id": "3a67609b",
   "metadata": {},
   "outputs": [],
   "source": [
    "c=4"
   ]
  },
  {
   "cell_type": "code",
   "execution_count": 36,
   "id": "389cf2ae",
   "metadata": {},
   "outputs": [],
   "source": [
    "d=50"
   ]
  },
  {
   "cell_type": "code",
   "execution_count": 37,
   "id": "a5c00508",
   "metadata": {},
   "outputs": [],
   "source": [
    "e=100"
   ]
  },
  {
   "cell_type": "code",
   "execution_count": 39,
   "id": "79492949",
   "metadata": {},
   "outputs": [
    {
     "data": {
      "text/plain": [
       "100"
      ]
     },
     "execution_count": 39,
     "metadata": {},
     "output_type": "execute_result"
    }
   ],
   "source": [
    "e*a"
   ]
  },
  {
   "cell_type": "code",
   "execution_count": 40,
   "id": "9a4bd1a2",
   "metadata": {},
   "outputs": [
    {
     "data": {
      "text/plain": [
       "100"
      ]
     },
     "execution_count": 40,
     "metadata": {},
     "output_type": "execute_result"
    }
   ],
   "source": [
    "b*d"
   ]
  },
  {
   "cell_type": "code",
   "execution_count": 41,
   "id": "eff8c91e",
   "metadata": {},
   "outputs": [
    {
     "data": {
      "text/plain": [
       "100"
      ]
     },
     "execution_count": 41,
     "metadata": {},
     "output_type": "execute_result"
    }
   ],
   "source": [
    "d+d"
   ]
  },
  {
   "cell_type": "code",
   "execution_count": 42,
   "id": "084a23c4",
   "metadata": {},
   "outputs": [],
   "source": [
    "y=912.87"
   ]
  },
  {
   "cell_type": "code",
   "execution_count": 43,
   "id": "431ea1c1",
   "metadata": {},
   "outputs": [
    {
     "data": {
      "text/plain": [
       "float"
      ]
     },
     "execution_count": 43,
     "metadata": {},
     "output_type": "execute_result"
    }
   ],
   "source": [
    "type(y)"
   ]
  },
  {
   "cell_type": "code",
   "execution_count": 44,
   "id": "deab76aa",
   "metadata": {},
   "outputs": [],
   "source": [
    "z=3.14159"
   ]
  },
  {
   "cell_type": "code",
   "execution_count": 45,
   "id": "7f56c6ca",
   "metadata": {},
   "outputs": [
    {
     "data": {
      "text/plain": [
       "290.57579123946795"
      ]
     },
     "execution_count": 45,
     "metadata": {},
     "output_type": "execute_result"
    }
   ],
   "source": [
    "y/z"
   ]
  },
  {
   "cell_type": "code",
   "execution_count": 46,
   "id": "6ea183d0",
   "metadata": {},
   "outputs": [
    {
     "data": {
      "text/plain": [
       "0.0034414429217741846"
      ]
     },
     "execution_count": 46,
     "metadata": {},
     "output_type": "execute_result"
    }
   ],
   "source": [
    "z/y"
   ]
  },
  {
   "cell_type": "code",
   "execution_count": 47,
   "id": "8b8b4bb1",
   "metadata": {},
   "outputs": [],
   "source": [
    "f='wow'"
   ]
  },
  {
   "cell_type": "code",
   "execution_count": 48,
   "id": "a0be6ba0",
   "metadata": {},
   "outputs": [],
   "source": [
    "g='bow'"
   ]
  },
  {
   "cell_type": "code",
   "execution_count": 49,
   "id": "fe701191",
   "metadata": {},
   "outputs": [
    {
     "data": {
      "text/plain": [
       "'wowbow'"
      ]
     },
     "execution_count": 49,
     "metadata": {},
     "output_type": "execute_result"
    }
   ],
   "source": [
    "f+g"
   ]
  },
  {
   "cell_type": "code",
   "execution_count": 51,
   "id": "78db60a2",
   "metadata": {},
   "outputs": [],
   "source": [
    "h= 'When I wore my '"
   ]
  },
  {
   "cell_type": "code",
   "execution_count": 52,
   "id": "0878c4f9",
   "metadata": {},
   "outputs": [],
   "source": [
    "i= 'cool pants to the '"
   ]
  },
  {
   "cell_type": "code",
   "execution_count": 53,
   "id": "1cbef6c3",
   "metadata": {},
   "outputs": [],
   "source": [
    "j= 'party, she kept saying to me '"
   ]
  },
  {
   "cell_type": "code",
   "execution_count": 54,
   "id": "b169b7e3",
   "metadata": {},
   "outputs": [
    {
     "data": {
      "text/plain": [
       "'When I wore my cool pants to the party, she kept saying to me wowbowbowbowbow'"
      ]
     },
     "execution_count": 54,
     "metadata": {},
     "output_type": "execute_result"
    }
   ],
   "source": [
    "h+i+j+(f+g *4)"
   ]
  },
  {
   "cell_type": "code",
   "execution_count": 55,
   "id": "a08a7a58",
   "metadata": {},
   "outputs": [],
   "source": [
    "k='cowboy hat '"
   ]
  },
  {
   "cell_type": "code",
   "execution_count": 56,
   "id": "c5610120",
   "metadata": {},
   "outputs": [],
   "source": [
    "l='rendezvous, '"
   ]
  },
  {
   "cell_type": "code",
   "execution_count": 57,
   "id": "4fcafe7e",
   "metadata": {},
   "outputs": [],
   "source": [
    "m= 'to the '"
   ]
  },
  {
   "cell_type": "code",
   "execution_count": 58,
   "id": "93d9044c",
   "metadata": {},
   "outputs": [],
   "source": [
    "n= 'I kept on going, '"
   ]
  },
  {
   "cell_type": "code",
   "execution_count": 60,
   "id": "e1121fde",
   "metadata": {
    "scrolled": true
   },
   "outputs": [
    {
     "data": {
      "text/plain": [
       "'When I wore my cowboy hatto the rendezvous, I kept on going, bowbowbowwowwowwow'"
      ]
     },
     "execution_count": 60,
     "metadata": {},
     "output_type": "execute_result"
    }
   ],
   "source": [
    "h+k+m+l+n+(g*3)+(f*3)"
   ]
  }
 ],
 "metadata": {
  "kernelspec": {
   "display_name": "Python 3 (ipykernel)",
   "language": "python",
   "name": "python3"
  },
  "language_info": {
   "codemirror_mode": {
    "name": "ipython",
    "version": 3
   },
   "file_extension": ".py",
   "mimetype": "text/x-python",
   "name": "python",
   "nbconvert_exporter": "python",
   "pygments_lexer": "ipython3",
   "version": "3.11.3"
  }
 },
 "nbformat": 4,
 "nbformat_minor": 5
}
