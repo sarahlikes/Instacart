{
 "cells": [
  {
   "cell_type": "code",
   "execution_count": 1,
   "id": "0fc7793c",
   "metadata": {},
   "outputs": [],
   "source": [
    "#Import libraries\n",
    "import pandas as pd\n",
    "import numpy as np\n",
    "import os\n",
    "import matplotlib.pyplot as plt\n",
    "import seaborn as sns\n",
    "import scipy\n",
    "import gc"
   ]
  },
  {
   "cell_type": "code",
   "execution_count": 2,
   "id": "b8da48a4",
   "metadata": {},
   "outputs": [],
   "source": [
    "#Import dataframe\n",
    "path=r'C:\\Users\\Alex\\Instacart Basket Analysis'"
   ]
  },
  {
   "cell_type": "code",
   "execution_count": 3,
   "id": "56b7d6a0",
   "metadata": {},
   "outputs": [],
   "source": [
    "df_customers=pd.read_csv(os.path.join(path, '02 Data', 'Original Data', 'customers.csv'))"
   ]
  },
  {
   "cell_type": "code",
   "execution_count": 4,
   "id": "79ced7a3",
   "metadata": {},
   "outputs": [],
   "source": [
    "df_ords_prods_merge=pd.read_pickle(os.path.join(path, '02 Data', 'Prepared Data', 'orders_products_aggr.pkl'))"
   ]
  },
  {
   "cell_type": "code",
   "execution_count": 5,
   "id": "e9e5aaac",
   "metadata": {},
   "outputs": [
    {
     "data": {
      "text/html": [
       "<div>\n",
       "<style scoped>\n",
       "    .dataframe tbody tr th:only-of-type {\n",
       "        vertical-align: middle;\n",
       "    }\n",
       "\n",
       "    .dataframe tbody tr th {\n",
       "        vertical-align: top;\n",
       "    }\n",
       "\n",
       "    .dataframe thead th {\n",
       "        text-align: right;\n",
       "    }\n",
       "</style>\n",
       "<table border=\"1\" class=\"dataframe\">\n",
       "  <thead>\n",
       "    <tr style=\"text-align: right;\">\n",
       "      <th></th>\n",
       "      <th>user_id</th>\n",
       "      <th>First Name</th>\n",
       "      <th>Surnam</th>\n",
       "      <th>Gender</th>\n",
       "      <th>STATE</th>\n",
       "      <th>Age</th>\n",
       "      <th>date_joined</th>\n",
       "      <th>n_dependants</th>\n",
       "      <th>fam_status</th>\n",
       "      <th>income</th>\n",
       "    </tr>\n",
       "  </thead>\n",
       "  <tbody>\n",
       "    <tr>\n",
       "      <th>0</th>\n",
       "      <td>26711</td>\n",
       "      <td>Deborah</td>\n",
       "      <td>Esquivel</td>\n",
       "      <td>Female</td>\n",
       "      <td>Missouri</td>\n",
       "      <td>48</td>\n",
       "      <td>1/1/2017</td>\n",
       "      <td>3</td>\n",
       "      <td>married</td>\n",
       "      <td>165665</td>\n",
       "    </tr>\n",
       "    <tr>\n",
       "      <th>1</th>\n",
       "      <td>33890</td>\n",
       "      <td>Patricia</td>\n",
       "      <td>Hart</td>\n",
       "      <td>Female</td>\n",
       "      <td>New Mexico</td>\n",
       "      <td>36</td>\n",
       "      <td>1/1/2017</td>\n",
       "      <td>0</td>\n",
       "      <td>single</td>\n",
       "      <td>59285</td>\n",
       "    </tr>\n",
       "    <tr>\n",
       "      <th>2</th>\n",
       "      <td>65803</td>\n",
       "      <td>Kenneth</td>\n",
       "      <td>Farley</td>\n",
       "      <td>Male</td>\n",
       "      <td>Idaho</td>\n",
       "      <td>35</td>\n",
       "      <td>1/1/2017</td>\n",
       "      <td>2</td>\n",
       "      <td>married</td>\n",
       "      <td>99568</td>\n",
       "    </tr>\n",
       "    <tr>\n",
       "      <th>3</th>\n",
       "      <td>125935</td>\n",
       "      <td>Michelle</td>\n",
       "      <td>Hicks</td>\n",
       "      <td>Female</td>\n",
       "      <td>Iowa</td>\n",
       "      <td>40</td>\n",
       "      <td>1/1/2017</td>\n",
       "      <td>0</td>\n",
       "      <td>single</td>\n",
       "      <td>42049</td>\n",
       "    </tr>\n",
       "    <tr>\n",
       "      <th>4</th>\n",
       "      <td>130797</td>\n",
       "      <td>Ann</td>\n",
       "      <td>Gilmore</td>\n",
       "      <td>Female</td>\n",
       "      <td>Maryland</td>\n",
       "      <td>26</td>\n",
       "      <td>1/1/2017</td>\n",
       "      <td>1</td>\n",
       "      <td>married</td>\n",
       "      <td>40374</td>\n",
       "    </tr>\n",
       "  </tbody>\n",
       "</table>\n",
       "</div>"
      ],
      "text/plain": [
       "   user_id First Name    Surnam  Gender       STATE  Age date_joined  \\\n",
       "0    26711    Deborah  Esquivel  Female    Missouri   48    1/1/2017   \n",
       "1    33890   Patricia      Hart  Female  New Mexico   36    1/1/2017   \n",
       "2    65803    Kenneth    Farley    Male       Idaho   35    1/1/2017   \n",
       "3   125935   Michelle     Hicks  Female        Iowa   40    1/1/2017   \n",
       "4   130797        Ann   Gilmore  Female    Maryland   26    1/1/2017   \n",
       "\n",
       "   n_dependants fam_status  income  \n",
       "0             3    married  165665  \n",
       "1             0     single   59285  \n",
       "2             2    married   99568  \n",
       "3             0     single   42049  \n",
       "4             1    married   40374  "
      ]
     },
     "execution_count": 5,
     "metadata": {},
     "output_type": "execute_result"
    }
   ],
   "source": [
    "#Wrangle data of customers file\n",
    "df_customers.head()"
   ]
  },
  {
   "cell_type": "code",
   "execution_count": 6,
   "id": "080afd61",
   "metadata": {},
   "outputs": [
    {
     "data": {
      "text/html": [
       "<div>\n",
       "<style scoped>\n",
       "    .dataframe tbody tr th:only-of-type {\n",
       "        vertical-align: middle;\n",
       "    }\n",
       "\n",
       "    .dataframe tbody tr th {\n",
       "        vertical-align: top;\n",
       "    }\n",
       "\n",
       "    .dataframe thead th {\n",
       "        text-align: right;\n",
       "    }\n",
       "</style>\n",
       "<table border=\"1\" class=\"dataframe\">\n",
       "  <thead>\n",
       "    <tr style=\"text-align: right;\">\n",
       "      <th></th>\n",
       "      <th>user_id</th>\n",
       "      <th>Age</th>\n",
       "      <th>n_dependants</th>\n",
       "      <th>income</th>\n",
       "    </tr>\n",
       "  </thead>\n",
       "  <tbody>\n",
       "    <tr>\n",
       "      <th>count</th>\n",
       "      <td>206209.000000</td>\n",
       "      <td>206209.000000</td>\n",
       "      <td>206209.000000</td>\n",
       "      <td>206209.000000</td>\n",
       "    </tr>\n",
       "    <tr>\n",
       "      <th>mean</th>\n",
       "      <td>103105.000000</td>\n",
       "      <td>49.501646</td>\n",
       "      <td>1.499823</td>\n",
       "      <td>94632.852548</td>\n",
       "    </tr>\n",
       "    <tr>\n",
       "      <th>std</th>\n",
       "      <td>59527.555167</td>\n",
       "      <td>18.480962</td>\n",
       "      <td>1.118433</td>\n",
       "      <td>42473.786988</td>\n",
       "    </tr>\n",
       "    <tr>\n",
       "      <th>min</th>\n",
       "      <td>1.000000</td>\n",
       "      <td>18.000000</td>\n",
       "      <td>0.000000</td>\n",
       "      <td>25903.000000</td>\n",
       "    </tr>\n",
       "    <tr>\n",
       "      <th>25%</th>\n",
       "      <td>51553.000000</td>\n",
       "      <td>33.000000</td>\n",
       "      <td>0.000000</td>\n",
       "      <td>59874.000000</td>\n",
       "    </tr>\n",
       "    <tr>\n",
       "      <th>50%</th>\n",
       "      <td>103105.000000</td>\n",
       "      <td>49.000000</td>\n",
       "      <td>1.000000</td>\n",
       "      <td>93547.000000</td>\n",
       "    </tr>\n",
       "    <tr>\n",
       "      <th>75%</th>\n",
       "      <td>154657.000000</td>\n",
       "      <td>66.000000</td>\n",
       "      <td>3.000000</td>\n",
       "      <td>124244.000000</td>\n",
       "    </tr>\n",
       "    <tr>\n",
       "      <th>max</th>\n",
       "      <td>206209.000000</td>\n",
       "      <td>81.000000</td>\n",
       "      <td>3.000000</td>\n",
       "      <td>593901.000000</td>\n",
       "    </tr>\n",
       "  </tbody>\n",
       "</table>\n",
       "</div>"
      ],
      "text/plain": [
       "             user_id            Age   n_dependants         income\n",
       "count  206209.000000  206209.000000  206209.000000  206209.000000\n",
       "mean   103105.000000      49.501646       1.499823   94632.852548\n",
       "std     59527.555167      18.480962       1.118433   42473.786988\n",
       "min         1.000000      18.000000       0.000000   25903.000000\n",
       "25%     51553.000000      33.000000       0.000000   59874.000000\n",
       "50%    103105.000000      49.000000       1.000000   93547.000000\n",
       "75%    154657.000000      66.000000       3.000000  124244.000000\n",
       "max    206209.000000      81.000000       3.000000  593901.000000"
      ]
     },
     "execution_count": 6,
     "metadata": {},
     "output_type": "execute_result"
    }
   ],
   "source": [
    "df_customers.describe()"
   ]
  },
  {
   "cell_type": "code",
   "execution_count": 7,
   "id": "983c3efa",
   "metadata": {},
   "outputs": [
    {
     "data": {
      "text/plain": [
       "user_id          int64\n",
       "First Name      object\n",
       "Surnam          object\n",
       "Gender          object\n",
       "STATE           object\n",
       "Age              int64\n",
       "date_joined     object\n",
       "n_dependants     int64\n",
       "fam_status      object\n",
       "income           int64\n",
       "dtype: object"
      ]
     },
     "execution_count": 7,
     "metadata": {},
     "output_type": "execute_result"
    }
   ],
   "source": [
    "df_customers.dtypes"
   ]
  },
  {
   "cell_type": "code",
   "execution_count": 8,
   "id": "94e163dd",
   "metadata": {},
   "outputs": [],
   "source": [
    "#Changing user_id int to match with other dataframe\n",
    "df_customers=df_customers.astype({\"user_id\": \"int16\"})"
   ]
  },
  {
   "cell_type": "code",
   "execution_count": 9,
   "id": "03deedec",
   "metadata": {},
   "outputs": [],
   "source": [
    "df_customers=df_customers.astype({\"Age\": \"int8\"})"
   ]
  },
  {
   "cell_type": "code",
   "execution_count": 10,
   "id": "4b82eac3",
   "metadata": {},
   "outputs": [],
   "source": [
    "df_customers=df_customers.astype({\"n_dependants\": \"int32\"})"
   ]
  },
  {
   "cell_type": "code",
   "execution_count": 11,
   "id": "b779778b",
   "metadata": {},
   "outputs": [],
   "source": [
    "df_customers=df_customers.astype({\"income\": \"int32\"})"
   ]
  },
  {
   "cell_type": "markdown",
   "id": "6a6cc338",
   "metadata": {},
   "source": [
    "Spoke with mentor regarding dropping name columns as this won't be necessary to our work and may help with limited file size"
   ]
  },
  {
   "cell_type": "code",
   "execution_count": 12,
   "id": "4b70136a",
   "metadata": {},
   "outputs": [],
   "source": [
    "#Dropping names\n",
    "df_customers=df_customers.drop(columns=['First Name'])"
   ]
  },
  {
   "cell_type": "code",
   "execution_count": 13,
   "id": "126ced99",
   "metadata": {},
   "outputs": [],
   "source": [
    "df_customers=df_customers.drop(columns=['Surnam'])"
   ]
  },
  {
   "cell_type": "code",
   "execution_count": 14,
   "id": "04edb5b7",
   "metadata": {},
   "outputs": [],
   "source": [
    "#Changing names for consistency\n",
    "df_customers.rename(columns={'Gender': 'gender'}, inplace=True)"
   ]
  },
  {
   "cell_type": "code",
   "execution_count": 15,
   "id": "53c963a3",
   "metadata": {},
   "outputs": [],
   "source": [
    "df_customers.rename(columns={'STATE': 'state'}, inplace=True)"
   ]
  },
  {
   "cell_type": "code",
   "execution_count": 16,
   "id": "0739a5ac",
   "metadata": {},
   "outputs": [],
   "source": [
    "df_customers.rename(columns={'Age': 'age'}, inplace=True)"
   ]
  },
  {
   "cell_type": "code",
   "execution_count": 17,
   "id": "bb57b754",
   "metadata": {},
   "outputs": [],
   "source": [
    "df_customers.rename(columns={'n_dependants': 'number_of_dependants'}, inplace=True)"
   ]
  },
  {
   "cell_type": "code",
   "execution_count": 18,
   "id": "7dcd5159",
   "metadata": {},
   "outputs": [],
   "source": [
    "df_customers.rename(columns={'fam_status':'marital_status'}, inplace=True)"
   ]
  },
  {
   "cell_type": "code",
   "execution_count": 19,
   "id": "00df02a6",
   "metadata": {},
   "outputs": [
    {
     "data": {
      "text/plain": [
       "user_id                 0\n",
       "gender                  0\n",
       "state                   0\n",
       "age                     0\n",
       "date_joined             0\n",
       "number_of_dependants    0\n",
       "marital_status          0\n",
       "income                  0\n",
       "dtype: int64"
      ]
     },
     "execution_count": 19,
     "metadata": {},
     "output_type": "execute_result"
    }
   ],
   "source": [
    "#Check for missing values\n",
    "df_customers.isnull().sum()"
   ]
  },
  {
   "cell_type": "code",
   "execution_count": 20,
   "id": "1c2d1d32",
   "metadata": {},
   "outputs": [],
   "source": [
    "#Check for duplicats\n",
    "df_dups=df_customers[df_customers.duplicated()]"
   ]
  },
  {
   "cell_type": "code",
   "execution_count": 21,
   "id": "8f00e98e",
   "metadata": {},
   "outputs": [
    {
     "data": {
      "text/html": [
       "<div>\n",
       "<style scoped>\n",
       "    .dataframe tbody tr th:only-of-type {\n",
       "        vertical-align: middle;\n",
       "    }\n",
       "\n",
       "    .dataframe tbody tr th {\n",
       "        vertical-align: top;\n",
       "    }\n",
       "\n",
       "    .dataframe thead th {\n",
       "        text-align: right;\n",
       "    }\n",
       "</style>\n",
       "<table border=\"1\" class=\"dataframe\">\n",
       "  <thead>\n",
       "    <tr style=\"text-align: right;\">\n",
       "      <th></th>\n",
       "      <th>user_id</th>\n",
       "      <th>gender</th>\n",
       "      <th>state</th>\n",
       "      <th>age</th>\n",
       "      <th>date_joined</th>\n",
       "      <th>number_of_dependants</th>\n",
       "      <th>marital_status</th>\n",
       "      <th>income</th>\n",
       "    </tr>\n",
       "  </thead>\n",
       "  <tbody>\n",
       "  </tbody>\n",
       "</table>\n",
       "</div>"
      ],
      "text/plain": [
       "Empty DataFrame\n",
       "Columns: [user_id, gender, state, age, date_joined, number_of_dependants, marital_status, income]\n",
       "Index: []"
      ]
     },
     "execution_count": 21,
     "metadata": {},
     "output_type": "execute_result"
    }
   ],
   "source": [
    "df_dups"
   ]
  },
  {
   "cell_type": "markdown",
   "id": "70832bfe",
   "metadata": {},
   "source": [
    "no duplicats"
   ]
  },
  {
   "cell_type": "code",
   "execution_count": 22,
   "id": "18d85cb3",
   "metadata": {},
   "outputs": [
    {
     "data": {
      "text/plain": [
       "<bound method NDFrame.head of         order_id  user_id eval_set  order_number  orders_day_of_week  \\\n",
       "0        2539329        1    prior             1                   2   \n",
       "1        2398795        1    prior             2                   3   \n",
       "2         473747        1    prior             3                   3   \n",
       "3        2254736        1    prior             4                   4   \n",
       "4         431534        1    prior             5                   4   \n",
       "...          ...      ...      ...           ...                 ...   \n",
       "999995   2836489   -31981    prior            14                   0   \n",
       "999996   1843600   -31976    prior             5                   1   \n",
       "999997    733106   -31976    prior             9                   2   \n",
       "999998   1650124   -31976    prior            17                   6   \n",
       "999999   3378258   -31976    prior            22                   6   \n",
       "\n",
       "        order_time_of_day  days_since_prior_order  product_id  \\\n",
       "0                       8                     NaN         196   \n",
       "1                       7                    15.0         196   \n",
       "2                      12                    21.0         196   \n",
       "3                       7                    29.0         196   \n",
       "4                      15                    28.0         196   \n",
       "...                   ...                     ...         ...   \n",
       "999995                 15                     6.0       30489   \n",
       "999996                 19                     9.0       30489   \n",
       "999997                 22                    10.0       30489   \n",
       "999998                 17                    13.0       30489   \n",
       "999999                 10                    15.0       30489   \n",
       "\n",
       "        add_to_cart_order  reordered  ...    price_range_loc     Busiest_day  \\\n",
       "0                       1          0  ...  Mid range product  Regularly busy   \n",
       "1                       1          1  ...  Mid range product  Regularly busy   \n",
       "2                       1          1  ...  Mid range product  Regularly busy   \n",
       "3                       1          1  ...  Mid range product      Least busy   \n",
       "4                       1          1  ...  Mid range product      Least busy   \n",
       "...                   ...        ...  ...                ...             ...   \n",
       "999995                  2          0  ...  Mid range product     Busiest day   \n",
       "999996                  2          0  ...  Mid range product  Regularly busy   \n",
       "999997                  3          1  ...  Mid range product  Regularly busy   \n",
       "999998                  1          1  ...  Mid range product  Regularly busy   \n",
       "999999                  3          1  ...  Mid range product  Regularly busy   \n",
       "\n",
       "           Busiest_days  busiest_period_of_day max_order      loyalty_flag  \\\n",
       "0        Regularly busy         Average orders        12  Regular customer   \n",
       "1       Least busy days         Average orders        12  Regular customer   \n",
       "2       Least busy days            Most Orders        12  Regular customer   \n",
       "3       Least busy days         Average orders        12  Regular customer   \n",
       "4       Least busy days            Most Orders        12  Regular customer   \n",
       "...                 ...                    ...       ...               ...   \n",
       "999995     Busiest days            Most Orders        23  Regular customer   \n",
       "999996     Busiest days         Average orders        31  Regular customer   \n",
       "999997   Regularly busy         Average orders        31  Regular customer   \n",
       "999998   Regularly busy         Average orders        31  Regular customer   \n",
       "999999   Regularly busy            Most Orders        31  Regular customer   \n",
       "\n",
       "        avg_price spending_flag  median_frequency     frequency_flag  \n",
       "0        6.385246   Low spender              20.0   Regular customer  \n",
       "1        6.385246   Low spender              20.0   Regular customer  \n",
       "2        6.385246   Low spender              20.0   Regular customer  \n",
       "3        6.385246   Low spender              20.0   Regular customer  \n",
       "4        6.385246   Low spender              20.0   Regular customer  \n",
       "...           ...           ...               ...                ...  \n",
       "999995  10.840000  High spender               8.5  Frequent customer  \n",
       "999996   5.637500   Low spender               9.0  Frequent customer  \n",
       "999997   5.637500   Low spender               9.0  Frequent customer  \n",
       "999998   5.637500   Low spender               9.0  Frequent customer  \n",
       "999999   5.637500   Low spender               9.0  Frequent customer  \n",
       "\n",
       "[1000000 rows x 24 columns]>"
      ]
     },
     "execution_count": 22,
     "metadata": {},
     "output_type": "execute_result"
    }
   ],
   "source": [
    "#Wrangle data of ords_prods_merge file\n",
    "df_ords_prods_merge.head"
   ]
  },
  {
   "cell_type": "code",
   "execution_count": 23,
   "id": "a0565327",
   "metadata": {},
   "outputs": [
    {
     "data": {
      "text/plain": [
       "order_id                    int32\n",
       "user_id                     int16\n",
       "eval_set                   object\n",
       "order_number                 int8\n",
       "orders_day_of_week           int8\n",
       "order_time_of_day            int8\n",
       "days_since_prior_order    float16\n",
       "product_id                  int16\n",
       "add_to_cart_order           int16\n",
       "reordered                   int16\n",
       "product_name               object\n",
       "aisle_id                    int16\n",
       "department_id               int16\n",
       "prices                    float32\n",
       "price_range_loc            object\n",
       "Busiest_day                object\n",
       "Busiest_days               object\n",
       "busiest_period_of_day      object\n",
       "max_order                    int8\n",
       "loyalty_flag               object\n",
       "avg_price                 float32\n",
       "spending_flag              object\n",
       "median_frequency          float16\n",
       "frequency_flag             object\n",
       "dtype: object"
      ]
     },
     "execution_count": 23,
     "metadata": {},
     "output_type": "execute_result"
    }
   ],
   "source": [
    "df_ords_prods_merge.dtypes"
   ]
  },
  {
   "cell_type": "code",
   "execution_count": 24,
   "id": "9fb8a6fa",
   "metadata": {},
   "outputs": [
    {
     "data": {
      "text/plain": [
       "(1000000, 24)"
      ]
     },
     "execution_count": 24,
     "metadata": {},
     "output_type": "execute_result"
    }
   ],
   "source": [
    "df_ords_prods_merge.shape"
   ]
  },
  {
   "cell_type": "code",
   "execution_count": 25,
   "id": "dcbc478d",
   "metadata": {},
   "outputs": [
    {
     "data": {
      "text/plain": [
       "(206209, 8)"
      ]
     },
     "execution_count": 25,
     "metadata": {},
     "output_type": "execute_result"
    }
   ],
   "source": [
    "df_customers.shape"
   ]
  },
  {
   "cell_type": "code",
   "execution_count": 26,
   "id": "5b010baf",
   "metadata": {},
   "outputs": [],
   "source": [
    "#merge data sets\n",
    "df_merge=df_customers.merge(df_ords_prods_merge, on='user_id', indicator=True)"
   ]
  },
  {
   "cell_type": "code",
   "execution_count": 27,
   "id": "1c7b8981",
   "metadata": {},
   "outputs": [],
   "source": [
    "#Export \n",
    "df_merge.to_pickle(os.path.join(path, '02 Data', 'Prepared Data', 'Instacart_Basket_Merged.pkl'))"
   ]
  },
  {
   "cell_type": "code",
   "execution_count": 28,
   "id": "4549dc1d",
   "metadata": {},
   "outputs": [
    {
     "data": {
      "text/html": [
       "<div>\n",
       "<style scoped>\n",
       "    .dataframe tbody tr th:only-of-type {\n",
       "        vertical-align: middle;\n",
       "    }\n",
       "\n",
       "    .dataframe tbody tr th {\n",
       "        vertical-align: top;\n",
       "    }\n",
       "\n",
       "    .dataframe thead th {\n",
       "        text-align: right;\n",
       "    }\n",
       "</style>\n",
       "<table border=\"1\" class=\"dataframe\">\n",
       "  <thead>\n",
       "    <tr style=\"text-align: right;\">\n",
       "      <th></th>\n",
       "      <th>user_id</th>\n",
       "      <th>age</th>\n",
       "      <th>number_of_dependants</th>\n",
       "      <th>income</th>\n",
       "      <th>order_id</th>\n",
       "      <th>order_number</th>\n",
       "      <th>orders_day_of_week</th>\n",
       "      <th>order_time_of_day</th>\n",
       "      <th>days_since_prior_order</th>\n",
       "      <th>product_id</th>\n",
       "      <th>add_to_cart_order</th>\n",
       "      <th>reordered</th>\n",
       "      <th>aisle_id</th>\n",
       "      <th>department_id</th>\n",
       "      <th>prices</th>\n",
       "      <th>max_order</th>\n",
       "      <th>avg_price</th>\n",
       "      <th>median_frequency</th>\n",
       "    </tr>\n",
       "  </thead>\n",
       "  <tbody>\n",
       "    <tr>\n",
       "      <th>count</th>\n",
       "      <td>3.184707e+06</td>\n",
       "      <td>3.184707e+06</td>\n",
       "      <td>3.184707e+06</td>\n",
       "      <td>3.184707e+06</td>\n",
       "      <td>3.184707e+06</td>\n",
       "      <td>3.184707e+06</td>\n",
       "      <td>3.184707e+06</td>\n",
       "      <td>3.184707e+06</td>\n",
       "      <td>2993364.0</td>\n",
       "      <td>3.184707e+06</td>\n",
       "      <td>3.184707e+06</td>\n",
       "      <td>3.184707e+06</td>\n",
       "      <td>3.184707e+06</td>\n",
       "      <td>3.184707e+06</td>\n",
       "      <td>3.184707e+06</td>\n",
       "      <td>3.184707e+06</td>\n",
       "      <td>3.184707e+06</td>\n",
       "      <td>3181891.0</td>\n",
       "    </tr>\n",
       "    <tr>\n",
       "      <th>mean</th>\n",
       "      <td>5.019410e+02</td>\n",
       "      <td>4.953867e+01</td>\n",
       "      <td>1.501355e+00</td>\n",
       "      <td>9.508800e+04</td>\n",
       "      <td>1.710344e+06</td>\n",
       "      <td>1.873972e+01</td>\n",
       "      <td>2.686772e+00</td>\n",
       "      <td>1.327334e+01</td>\n",
       "      <td>NaN</td>\n",
       "      <td>2.351557e+03</td>\n",
       "      <td>6.078639e+00</td>\n",
       "      <td>7.699939e-01</td>\n",
       "      <td>4.440674e+01</td>\n",
       "      <td>8.738807e+00</td>\n",
       "      <td>7.821309e+00</td>\n",
       "      <td>3.959352e+01</td>\n",
       "      <td>7.821305e+00</td>\n",
       "      <td>NaN</td>\n",
       "    </tr>\n",
       "    <tr>\n",
       "      <th>std</th>\n",
       "      <td>1.802277e+04</td>\n",
       "      <td>1.846842e+01</td>\n",
       "      <td>1.119192e+00</td>\n",
       "      <td>4.200413e+04</td>\n",
       "      <td>9.874640e+05</td>\n",
       "      <td>1.857063e+01</td>\n",
       "      <td>2.053515e+00</td>\n",
       "      <td>4.217467e+00</td>\n",
       "      <td>0.0</td>\n",
       "      <td>1.891313e+04</td>\n",
       "      <td>5.697324e+00</td>\n",
       "      <td>4.208365e-01</td>\n",
       "      <td>2.892643e+01</td>\n",
       "      <td>6.419313e+00</td>\n",
       "      <td>3.664742e+00</td>\n",
       "      <td>2.532308e+01</td>\n",
       "      <td>2.087831e+00</td>\n",
       "      <td>0.0</td>\n",
       "    </tr>\n",
       "    <tr>\n",
       "      <th>min</th>\n",
       "      <td>-3.276800e+04</td>\n",
       "      <td>1.800000e+01</td>\n",
       "      <td>0.000000e+00</td>\n",
       "      <td>2.590300e+04</td>\n",
       "      <td>5.000000e+00</td>\n",
       "      <td>1.000000e+00</td>\n",
       "      <td>0.000000e+00</td>\n",
       "      <td>0.000000e+00</td>\n",
       "      <td>0.0</td>\n",
       "      <td>-3.274400e+04</td>\n",
       "      <td>1.000000e+00</td>\n",
       "      <td>0.000000e+00</td>\n",
       "      <td>2.100000e+01</td>\n",
       "      <td>4.000000e+00</td>\n",
       "      <td>1.000000e+00</td>\n",
       "      <td>1.000000e+00</td>\n",
       "      <td>1.000000e+00</td>\n",
       "      <td>0.0</td>\n",
       "    </tr>\n",
       "    <tr>\n",
       "      <th>25%</th>\n",
       "      <td>-1.460400e+04</td>\n",
       "      <td>3.400000e+01</td>\n",
       "      <td>0.000000e+00</td>\n",
       "      <td>6.106500e+04</td>\n",
       "      <td>8.554935e+05</td>\n",
       "      <td>5.000000e+00</td>\n",
       "      <td>1.000000e+00</td>\n",
       "      <td>1.000000e+01</td>\n",
       "      <td>5.0</td>\n",
       "      <td>-1.777000e+04</td>\n",
       "      <td>2.000000e+00</td>\n",
       "      <td>1.000000e+00</td>\n",
       "      <td>2.400000e+01</td>\n",
       "      <td>4.000000e+00</td>\n",
       "      <td>6.300000e+00</td>\n",
       "      <td>1.900000e+01</td>\n",
       "      <td>6.420690e+00</td>\n",
       "      <td>6.0</td>\n",
       "    </tr>\n",
       "    <tr>\n",
       "      <th>50%</th>\n",
       "      <td>2.225000e+03</td>\n",
       "      <td>5.000000e+01</td>\n",
       "      <td>2.000000e+00</td>\n",
       "      <td>9.396700e+04</td>\n",
       "      <td>1.709930e+06</td>\n",
       "      <td>1.200000e+01</td>\n",
       "      <td>2.000000e+00</td>\n",
       "      <td>1.300000e+01</td>\n",
       "      <td>7.0</td>\n",
       "      <td>1.317600e+04</td>\n",
       "      <td>4.000000e+00</td>\n",
       "      <td>1.000000e+00</td>\n",
       "      <td>2.400000e+01</td>\n",
       "      <td>4.000000e+00</td>\n",
       "      <td>9.000000e+00</td>\n",
       "      <td>3.500000e+01</td>\n",
       "      <td>7.981250e+00</td>\n",
       "      <td>7.0</td>\n",
       "    </tr>\n",
       "    <tr>\n",
       "      <th>75%</th>\n",
       "      <td>1.456600e+04</td>\n",
       "      <td>6.500000e+01</td>\n",
       "      <td>3.000000e+00</td>\n",
       "      <td>1.246080e+05</td>\n",
       "      <td>2.565273e+06</td>\n",
       "      <td>2.700000e+01</td>\n",
       "      <td>5.000000e+00</td>\n",
       "      <td>1.600000e+01</td>\n",
       "      <td>14.0</td>\n",
       "      <td>1.317600e+04</td>\n",
       "      <td>8.000000e+00</td>\n",
       "      <td>1.000000e+00</td>\n",
       "      <td>6.700000e+01</td>\n",
       "      <td>1.600000e+01</td>\n",
       "      <td>1.030000e+01</td>\n",
       "      <td>5.400000e+01</td>\n",
       "      <td>9.368293e+00</td>\n",
       "      <td>11.0</td>\n",
       "    </tr>\n",
       "    <tr>\n",
       "      <th>max</th>\n",
       "      <td>3.276600e+04</td>\n",
       "      <td>8.100000e+01</td>\n",
       "      <td>3.000000e+00</td>\n",
       "      <td>5.939010e+05</td>\n",
       "      <td>3.421068e+06</td>\n",
       "      <td>9.900000e+01</td>\n",
       "      <td>6.000000e+00</td>\n",
       "      <td>2.300000e+01</td>\n",
       "      <td>30.0</td>\n",
       "      <td>3.048900e+04</td>\n",
       "      <td>9.900000e+01</td>\n",
       "      <td>1.000000e+00</td>\n",
       "      <td>1.210000e+02</td>\n",
       "      <td>2.000000e+01</td>\n",
       "      <td>1.480000e+01</td>\n",
       "      <td>9.900000e+01</td>\n",
       "      <td>1.480000e+01</td>\n",
       "      <td>30.0</td>\n",
       "    </tr>\n",
       "  </tbody>\n",
       "</table>\n",
       "</div>"
      ],
      "text/plain": [
       "            user_id           age  number_of_dependants        income  \\\n",
       "count  3.184707e+06  3.184707e+06          3.184707e+06  3.184707e+06   \n",
       "mean   5.019410e+02  4.953867e+01          1.501355e+00  9.508800e+04   \n",
       "std    1.802277e+04  1.846842e+01          1.119192e+00  4.200413e+04   \n",
       "min   -3.276800e+04  1.800000e+01          0.000000e+00  2.590300e+04   \n",
       "25%   -1.460400e+04  3.400000e+01          0.000000e+00  6.106500e+04   \n",
       "50%    2.225000e+03  5.000000e+01          2.000000e+00  9.396700e+04   \n",
       "75%    1.456600e+04  6.500000e+01          3.000000e+00  1.246080e+05   \n",
       "max    3.276600e+04  8.100000e+01          3.000000e+00  5.939010e+05   \n",
       "\n",
       "           order_id  order_number  orders_day_of_week  order_time_of_day  \\\n",
       "count  3.184707e+06  3.184707e+06        3.184707e+06       3.184707e+06   \n",
       "mean   1.710344e+06  1.873972e+01        2.686772e+00       1.327334e+01   \n",
       "std    9.874640e+05  1.857063e+01        2.053515e+00       4.217467e+00   \n",
       "min    5.000000e+00  1.000000e+00        0.000000e+00       0.000000e+00   \n",
       "25%    8.554935e+05  5.000000e+00        1.000000e+00       1.000000e+01   \n",
       "50%    1.709930e+06  1.200000e+01        2.000000e+00       1.300000e+01   \n",
       "75%    2.565273e+06  2.700000e+01        5.000000e+00       1.600000e+01   \n",
       "max    3.421068e+06  9.900000e+01        6.000000e+00       2.300000e+01   \n",
       "\n",
       "       days_since_prior_order    product_id  add_to_cart_order     reordered  \\\n",
       "count               2993364.0  3.184707e+06       3.184707e+06  3.184707e+06   \n",
       "mean                      NaN  2.351557e+03       6.078639e+00  7.699939e-01   \n",
       "std                       0.0  1.891313e+04       5.697324e+00  4.208365e-01   \n",
       "min                       0.0 -3.274400e+04       1.000000e+00  0.000000e+00   \n",
       "25%                       5.0 -1.777000e+04       2.000000e+00  1.000000e+00   \n",
       "50%                       7.0  1.317600e+04       4.000000e+00  1.000000e+00   \n",
       "75%                      14.0  1.317600e+04       8.000000e+00  1.000000e+00   \n",
       "max                      30.0  3.048900e+04       9.900000e+01  1.000000e+00   \n",
       "\n",
       "           aisle_id  department_id        prices     max_order     avg_price  \\\n",
       "count  3.184707e+06   3.184707e+06  3.184707e+06  3.184707e+06  3.184707e+06   \n",
       "mean   4.440674e+01   8.738807e+00  7.821309e+00  3.959352e+01  7.821305e+00   \n",
       "std    2.892643e+01   6.419313e+00  3.664742e+00  2.532308e+01  2.087831e+00   \n",
       "min    2.100000e+01   4.000000e+00  1.000000e+00  1.000000e+00  1.000000e+00   \n",
       "25%    2.400000e+01   4.000000e+00  6.300000e+00  1.900000e+01  6.420690e+00   \n",
       "50%    2.400000e+01   4.000000e+00  9.000000e+00  3.500000e+01  7.981250e+00   \n",
       "75%    6.700000e+01   1.600000e+01  1.030000e+01  5.400000e+01  9.368293e+00   \n",
       "max    1.210000e+02   2.000000e+01  1.480000e+01  9.900000e+01  1.480000e+01   \n",
       "\n",
       "       median_frequency  \n",
       "count         3181891.0  \n",
       "mean                NaN  \n",
       "std                 0.0  \n",
       "min                 0.0  \n",
       "25%                 6.0  \n",
       "50%                 7.0  \n",
       "75%                11.0  \n",
       "max                30.0  "
      ]
     },
     "execution_count": 28,
     "metadata": {},
     "output_type": "execute_result"
    }
   ],
   "source": [
    "df_merge.describe()"
   ]
  },
  {
   "cell_type": "code",
   "execution_count": 29,
   "id": "310deebd",
   "metadata": {},
   "outputs": [
    {
     "name": "stdout",
     "output_type": "stream",
     "text": [
      "<class 'pandas.core.frame.DataFrame'>\n",
      "Int64Index: 3184707 entries, 0 to 3184706\n",
      "Data columns (total 32 columns):\n",
      " #   Column                  Dtype   \n",
      "---  ------                  -----   \n",
      " 0   user_id                 int16   \n",
      " 1   gender                  object  \n",
      " 2   state                   object  \n",
      " 3   age                     int8    \n",
      " 4   date_joined             object  \n",
      " 5   number_of_dependants    int32   \n",
      " 6   marital_status          object  \n",
      " 7   income                  int32   \n",
      " 8   order_id                int32   \n",
      " 9   eval_set                object  \n",
      " 10  order_number            int8    \n",
      " 11  orders_day_of_week      int8    \n",
      " 12  order_time_of_day       int8    \n",
      " 13  days_since_prior_order  float16 \n",
      " 14  product_id              int16   \n",
      " 15  add_to_cart_order       int16   \n",
      " 16  reordered               int16   \n",
      " 17  product_name            object  \n",
      " 18  aisle_id                int16   \n",
      " 19  department_id           int16   \n",
      " 20  prices                  float32 \n",
      " 21  price_range_loc         object  \n",
      " 22  Busiest_day             object  \n",
      " 23  Busiest_days            object  \n",
      " 24  busiest_period_of_day   object  \n",
      " 25  max_order               int8    \n",
      " 26  loyalty_flag            object  \n",
      " 27  avg_price               float32 \n",
      " 28  spending_flag           object  \n",
      " 29  median_frequency        float16 \n",
      " 30  frequency_flag          object  \n",
      " 31  _merge                  category\n",
      "dtypes: category(1), float16(2), float32(2), int16(6), int32(3), int8(5), object(13)\n",
      "memory usage: 467.7+ MB\n"
     ]
    }
   ],
   "source": [
    "df_merge.info()"
   ]
  },
  {
   "cell_type": "code",
   "execution_count": null,
   "id": "edefcd45",
   "metadata": {},
   "outputs": [],
   "source": []
  }
 ],
 "metadata": {
  "kernelspec": {
   "display_name": "Python 3 (ipykernel)",
   "language": "python",
   "name": "python3"
  },
  "language_info": {
   "codemirror_mode": {
    "name": "ipython",
    "version": 3
   },
   "file_extension": ".py",
   "mimetype": "text/x-python",
   "name": "python",
   "nbconvert_exporter": "python",
   "pygments_lexer": "ipython3",
   "version": "3.11.3"
  }
 },
 "nbformat": 4,
 "nbformat_minor": 5
}
